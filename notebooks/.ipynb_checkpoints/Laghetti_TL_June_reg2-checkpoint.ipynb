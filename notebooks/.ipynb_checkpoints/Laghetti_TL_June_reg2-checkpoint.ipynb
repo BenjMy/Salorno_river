{
 "cells": [
  {
   "cell_type": "markdown",
   "id": "e6e5955a",
   "metadata": {
    "iooxa": {
     "id": {
      "block": "KyDznH3jO1kYnQRERk6k",
      "project": "wjcU0xFUCQKRwMTRhf0q",
      "version": 1
     }
    },
    "tags": []
   },
   "source": [
    "# Notebook for the Alento (site nb2) data processing\n",
    "\n",
    "- 🔨 Data acquisition: Nico, Ben\n",
    "- Notebook Author: B. Mary\n",
    "\n",
    "### Steps to reproduce\n",
    "- import all libraries\n",
    "- import raw merged data \n",
    "- create resipy project 3d\n",
    "- import electrode geometry\n",
    "- create thetra mesh\n",
    "- invert\n",
    "- show results "
   ]
  },
  {
   "cell_type": "code",
   "execution_count": null,
   "id": "ffb9b4c1",
   "metadata": {
    "iooxa": {
     "id": {
      "block": "Gk0TEsqPscmLCdfidnXW",
      "project": "wjcU0xFUCQKRwMTRhf0q",
      "version": 2
     },
     "outputId": null
    }
   },
   "outputs": [],
   "source": [
    "#!/usr/bin/env python3\n",
    "# -*- coding: utf-8 -*-\n",
    "\"\"\"\n",
    "Created on Mon Dec  6 09:22:55 2021\n",
    "\n",
    "@author: ben\n",
    "\"\"\"\n",
    "# import resipy and other useful libraries\n",
    "# -----------------------------------------------------------------------------\n",
    "#get_ipython().run_line_magic('matplotlib', 'inline')\n",
    "import warnings\n",
    "warnings.filterwarnings('ignore')\n",
    "import os\n",
    "import sys\n",
    "import pandas as pd\n",
    "import numpy as np\n",
    "import matplotlib.pyplot as plt\n",
    "import pyvista as pv\n",
    "\n",
    "import ipywidgets"
   ]
  },
  {
   "cell_type": "code",
   "execution_count": null,
   "id": "6070cc10",
   "metadata": {},
   "outputs": [],
   "source": [
    "#!pip install resipy==3.3.2"
   ]
  },
  {
   "cell_type": "code",
   "execution_count": null,
   "id": "d9d7d9d7",
   "metadata": {
    "iooxa": {
     "id": {
      "block": "LdTVdqsARKtesqUZIQFV",
      "project": "wjcU0xFUCQKRwMTRhf0q",
      "version": 3
     },
     "outputId": null
    }
   },
   "outputs": [],
   "source": [
    "correct_topo = 0\n",
    "per_rec = 10 #10"
   ]
  },
  {
   "cell_type": "code",
   "execution_count": null,
   "id": "aef78652",
   "metadata": {},
   "outputs": [],
   "source": [
    "sys.path.append((os.path.relpath('../src'))) # add here the relative path of the API folder\n",
    "from resipy import Project"
   ]
  },
  {
   "cell_type": "code",
   "execution_count": null,
   "id": "2c533a85",
   "metadata": {
    "iooxa": {
     "id": {
      "block": "LYVEuGivjWpD0inYkJt5",
      "project": "wjcU0xFUCQKRwMTRhf0q",
      "version": 3
     },
     "outputId": {
      "block": "0Rc5egocVYqglUj1ZBQJ",
      "project": "wjcU0xFUCQKRwMTRhf0q",
      "version": 3
     }
    }
   },
   "outputs": [],
   "source": [
    "regMode = 2\n",
    "dir_simu = '../INV/timeLapse/TL_June_Laghetti_' + 'regMode' + str(regMode)\n",
    "k = Project(dirname=dir_simu, typ='R3t')\n",
    "k.setTitle('Laghetti')"
   ]
  },
  {
   "cell_type": "markdown",
   "id": "31ea0e7c",
   "metadata": {
    "iooxa": {
     "id": {
      "block": "QKExGcHEqXVNNyr6PpFV",
      "project": "wjcU0xFUCQKRwMTRhf0q",
      "version": 1
     }
    }
   },
   "source": [
    "# Set reciprocal filter to 10%"
   ]
  },
  {
   "cell_type": "code",
   "execution_count": null,
   "id": "4349a4d1",
   "metadata": {},
   "outputs": [],
   "source": [
    "print(os.getcwd())\n",
    "\n",
    "import pandas\n",
    "\n",
    "filenames = [\n",
    "            '../rawData/Laghetti/June/file120data0_20giugno2022.dat',\n",
    "            '../rawData/Laghetti/June/file120data1_22giugno2022.dat',\n",
    "            '../rawData/Laghetti/June/file120data2_24giugno2022.dat',\n",
    "            '../rawData/Laghetti/June/file120data3_27giugno2022.dat',\n",
    "            ]"
   ]
  },
  {
   "cell_type": "code",
   "execution_count": null,
   "id": "18086e47",
   "metadata": {},
   "outputs": [],
   "source": [
    "column_names = ['Spa.1','Spa.2','Spa.3','Spa.4','Vp','In']\n",
    "idx = [0,1,2,3,8,9]\n",
    "filenames_csv = []\n",
    "for f in filenames:\n",
    "    numpyfile = np.loadtxt(f, skiprows=1)\n",
    "    df=pd.DataFrame(numpyfile[:,idx],columns=column_names)\n",
    "    df['dev']=np.zeros(len(df['Spa.1']))\n",
    "    df = df.astype({\"Spa.1\": int}) \n",
    "    df = df.astype({\"Spa.2\": int}) \n",
    "    df = df.astype({\"Spa.3\": int}) \n",
    "    df = df.astype({\"Spa.4\": int}) \n",
    "    filenames_csv.append(f + '.csv')\n",
    "    df.to_csv(f + '.csv',sep=',',index=False)"
   ]
  },
  {
   "cell_type": "code",
   "execution_count": null,
   "id": "8089fc38",
   "metadata": {
    "iooxa": {
     "id": {
      "block": "mDeuHKDnWLVS7v3smOld",
      "project": "wjcU0xFUCQKRwMTRhf0q",
      "version": 3
     },
     "outputId": {
      "block": "eX6hEPoAEXYagTYUX1yx",
      "project": "wjcU0xFUCQKRwMTRhf0q",
      "version": 3
     }
    }
   },
   "outputs": [],
   "source": [
    "# create survey\n",
    "# -----------------------------------------------------------------------------\n",
    "print(os.getcwd())\n",
    "k.createTimeLapseSurvey(filenames_csv,\n",
    "                         ftype='Syscal')\n",
    "k.filterRecip(index=-1, percent=per_rec)"
   ]
  },
  {
   "cell_type": "markdown",
   "id": "59254278",
   "metadata": {
    "iooxa": {
     "id": {
      "block": "Y0mhlV9WaxsSCxa0Lsmo",
      "project": "wjcU0xFUCQKRwMTRhf0q",
      "version": 1
     }
    }
   },
   "source": [
    "# Create boreholes geometry\n",
    "\n",
    "### raw file: coordinatepozzilaghetti.txt"
   ]
  },
  {
   "cell_type": "code",
   "execution_count": null,
   "id": "9383b856",
   "metadata": {
    "iooxa": {
     "id": {
      "block": "hdnQP7EI6wV7S5lwA8Pm",
      "project": "wjcU0xFUCQKRwMTRhf0q",
      "version": 4
     },
     "outputId": {
      "block": "TufHnhraubhTNpiMII9Y",
      "project": "wjcU0xFUCQKRwMTRhf0q",
      "version": 4
     }
    }
   },
   "outputs": [],
   "source": [
    "# create boreholes geometry\n",
    "# -----------------------------------------------------------------------------\n",
    "nb_elecs_bor = 24\n",
    "elecs_spacing = 1\n",
    "offset = 1\n",
    "asc_bor = np.arange(-nb_elecs_bor*elecs_spacing-offset,0-offset)\n",
    "des_bor = np.flip(asc_bor)\n",
    "elecs_z = np.hstack([asc_bor,des_bor,des_bor,des_bor,des_bor])\n",
    "\n",
    "elecs = []\n",
    "label = []\n",
    "\n",
    "# lat/long of the electrodes\n",
    "# -----------------------------------------------------------------------------\n",
    "pozzi_coords = pd.read_csv('../survey/coordinatepozzilaghetti.txt', header='infer')\n",
    "\n",
    "# lat/long to absolute positions\n",
    "# -----------------------------------------------------------------------------\n",
    "pozzi_coords['x'] = pozzi_coords['x'] - min(pozzi_coords['x'])\n",
    "pozzi_coords['y'] = pozzi_coords['y'] - min(pozzi_coords['y'])\n",
    "pozzi_coords['z'] = pozzi_coords['z'] - max(pozzi_coords['z'])\n",
    "\n",
    "\n",
    "i=1\n",
    "for index, row in pozzi_coords.iterrows():\n",
    "    for ne in range(len(asc_bor)):\n",
    "        elecs.append([row[1],row[2],row[3]])\n",
    "        # print([str(1),str((ne+1)*(index+1))])\n",
    "        # label.append(' '.join([str(index+1),str(ne+1)]))\n",
    "        # label.append(' '.join([str(1),str(i)]))\n",
    "        label.append(' '.join([str(i)]))\n",
    "        i +=1\n",
    "\n",
    "# correct for altitude\n",
    "# -----------------------------------------------------------------------------\n",
    "for ze in enumerate(elecs_z):\n",
    "    # print(ze)\n",
    "    if correct_topo == 1:\n",
    "        elecs[ze[0]][2] +=  ze[1]\n",
    "    else:\n",
    "        elecs[ze[0]][2] =  ze[1]\n",
    "\n",
    "elecs = np.vstack(elecs)\n",
    "\n",
    "if correct_topo == 1:\n",
    "    max_elecs = pozzi_coords['z'] - 2\n",
    "else:\n",
    "    max_elecs= max(elecs[:,2])\n",
    "\n",
    "# buried flag for upper surface electrode is False!\n",
    "# -----------------------------------------------------------------------------\n",
    "buried = []\n",
    "for e in elecs:\n",
    "    if (round(e[2],4) == round(max_elecs, 4)).any():\n",
    "        buried.append(False)\n",
    "    else:\n",
    "        buried.append(True)\n",
    "            \n",
    "# plot electrode positions\n",
    "# -----------------------------------------------------------------------------\n",
    "fig = plt.figure()\n",
    "ax = fig.add_subplot(projection='3d')\n",
    "\n",
    "ax.scatter(elecs[:,0], elecs[:,1], elecs[:,2], marker='o')\n",
    "\n",
    "ax.set_xlabel('Lat (m)')\n",
    "ax.set_ylabel('Long (m)')\n",
    "ax.set_zlabel('Altitude z (m)')\n",
    "\n",
    "plt.show()\n",
    "\n",
    "# electrode positions to dataframe\n",
    "# -----------------------------------------------------------------------------\n",
    "elecs_df = pd.DataFrame(elecs,columns=['x', 'y', 'z'])\n",
    "elecs_df['label'] = label\n",
    "elecs_df['buried'] = buried\n",
    "\n",
    "elecs_df.to_csv('./elecs120data.csv', index=False)\n",
    "elecs_df.head()"
   ]
  },
  {
   "cell_type": "code",
   "execution_count": null,
   "id": "0e9d2cad",
   "metadata": {
    "iooxa": {
     "id": {
      "block": "InEk3Dl8TqpZLAOr7gCK",
      "project": "wjcU0xFUCQKRwMTRhf0q",
      "version": 4
     },
     "outputId": {
      "block": "701UVe6n2FvZUEBDeXGr",
      "project": "wjcU0xFUCQKRwMTRhf0q",
      "version": 4
     }
    }
   },
   "outputs": [],
   "source": [
    "k.setElec(elecs_df)\n",
    "#k.createMesh(refine=0)\n",
    "k.createMesh(refine=0,cl_factor=5,cl=1) #,fmd=1\n",
    "\n",
    "k.showMesh()\n",
    "             # cl_factor=8.00, \n",
    "             # cln_factor=100.00,"
   ]
  },
  {
   "cell_type": "markdown",
   "id": "801e652c",
   "metadata": {
    "iooxa": {
     "id": {
      "block": "k0kdBLETXAhifNWq8oRQ",
      "project": "wjcU0xFUCQKRwMTRhf0q",
      "version": 1
     }
    }
   },
   "source": [
    "# Inversion"
   ]
  },
  {
   "cell_type": "code",
   "execution_count": null,
   "id": "6045ac06",
   "metadata": {
    "iooxa": {
     "id": {
      "block": "mxzjvlxi1Fgw3fBHBQw2",
      "project": "wjcU0xFUCQKRwMTRhf0q",
      "version": 4
     },
     "outputId": {
      "block": "sU6AE1njAgHioH28zu96",
      "project": "wjcU0xFUCQKRwMTRhf0q",
      "version": 4
     }
    },
    "tags": []
   },
   "outputs": [],
   "source": [
    "# inversion\n",
    "# -----------------------------------------------------------------------------\n",
    "k.param['num_xy_poly'] = 0\n",
    "k.param['z_min'] = -np.inf\n",
    "k.param['z_max'] = np.inf\n",
    "\n",
    "# k.param['z_min'] = max(elecs_df['z'])\n",
    "# k.param['z_max'] = min(elecs_df['z'])\n",
    "k.param['data_type'] = 1 # using log of resistitivy\n",
    "k.err = False # if we want to use the error from the error models fitted before\n",
    "k.param['a_wgt'] = 0.01\n",
    "k.param['b_wgt'] = per_rec/100 #0.05\n",
    "k.param['reg_mode'] = regMode\n",
    "k.invert(parallel=False) # this will do the inversion\n",
    "# k.saveData(MainPath)"
   ]
  },
  {
   "cell_type": "code",
   "execution_count": null,
   "id": "5973bccc",
   "metadata": {
    "iooxa": {
     "id": {
      "block": "Ft9Zs89b8bwkohxHH0nP",
      "project": "wjcU0xFUCQKRwMTRhf0q",
      "version": 2
     },
     "outputId": {
      "block": "gq6N97z3m7Vm2YJXCEVH",
      "project": "wjcU0xFUCQKRwMTRhf0q",
      "version": 2
     }
    }
   },
   "outputs": [],
   "source": [
    "# save project\n",
    "# -----------------------------------------------------------------------------\n",
    "k.saveProject(dir_simu + 'Laghetti_June_TL' + 'regMode' + str(regMode))"
   ]
  },
  {
   "cell_type": "markdown",
   "id": "c48bc904",
   "metadata": {
    "iooxa": {
     "id": {
      "block": "GwBWSHgFP2QPraZI8pr9",
      "project": "wjcU0xFUCQKRwMTRhf0q",
      "version": 1
     }
    }
   },
   "source": [
    "# Results"
   ]
  },
  {
   "cell_type": "code",
   "execution_count": null,
   "id": "2b4e10de",
   "metadata": {
    "iooxa": {
     "id": {
      "block": "tBWgaMOx4A0aGQ4ckc4d",
      "project": "wjcU0xFUCQKRwMTRhf0q",
      "version": 4
     },
     "outputId": {
      "block": "WE3xCmoyMjOZmbh3mmHB",
      "project": "wjcU0xFUCQKRwMTRhf0q",
      "version": 2
     }
    },
    "tags": []
   },
   "outputs": [],
   "source": [
    "k.showResults(attr='Resistivity(log10)', \n",
    "              sens=True, \n",
    "              contour=True, \n",
    "              use_pyvista=True,\n",
    "              color_map='jet',zlim=[-30,0],\n",
    "              background_color='white')"
   ]
  },
  {
   "cell_type": "code",
   "execution_count": null,
   "id": "11d46691",
   "metadata": {
    "iooxa": {
     "id": {
      "block": "MLcsrvERdZ0LKOcKtX78",
      "project": "wjcU0xFUCQKRwMTRhf0q",
      "version": 3
     },
     "outputId": {
      "block": "M1Ar4iwtFqDlabdtY92u",
      "project": "wjcU0xFUCQKRwMTRhf0q",
      "version": 2
     }
    }
   },
   "outputs": [],
   "source": [
    "pl = pv.Plotter()\n",
    "k.showResults(attr='Resistivity(ohm.m)',\n",
    "              ax=pl, pvslices=([5,15,25],[15],[]), \n",
    "              pvgrid=True, \n",
    "              vmin=0, \n",
    "              vmax=300, \n",
    "              color_map='jet',zlim=[-30,0],\n",
    "              background_color='white')"
   ]
  },
  {
   "cell_type": "code",
   "execution_count": null,
   "id": "8cd3c784",
   "metadata": {
    "iooxa": {
     "id": {
      "block": "m6KU6SJnYlzTeK4Hib5N",
      "project": "wjcU0xFUCQKRwMTRhf0q",
      "version": 3
     },
     "outputId": {
      "block": "AyF9os4x1d3sucwh4tIW",
      "project": "wjcU0xFUCQKRwMTRhf0q",
      "version": 2
     }
    }
   },
   "outputs": [],
   "source": [
    "pl = pv.Plotter()\n",
    "k.showResults(attr='Resistivity(ohm.m)',\n",
    "              ax=pl, pvthreshold=[0,75], pvgrid=True,zlim=[-30,0],\n",
    "              background_color='white')"
   ]
  },
  {
   "cell_type": "code",
   "execution_count": null,
   "id": "125a08bc",
   "metadata": {
    "iooxa": {
     "id": {
      "block": "Q0VAKWyjOS3QQSSWD6Ro",
      "project": "wjcU0xFUCQKRwMTRhf0q",
      "version": 1
     },
     "outputId": null
    }
   },
   "outputs": [],
   "source": [
    "k.showResults(index=1, pvslices=([],[],[-12]), \n",
    "              pvgrid=True, attr='difference(percent)', \n",
    "                contour=False, vmin=-25, vmax=0\n",
    "             )"
   ]
  },
  {
   "cell_type": "code",
   "execution_count": null,
   "id": "990bde93",
   "metadata": {
    "iooxa": {
     "id": {
      "block": "riMQ8XCBTg8IGbxWH6Zd",
      "project": "wjcU0xFUCQKRwMTRhf0q",
      "version": 1
     },
     "outputId": null
    }
   },
   "outputs": [],
   "source": [
    "k.showResults(index=2,pvslices=([],[],[-12]), \n",
    "              pvgrid=True, attr='difference(percent)', \n",
    "                contour=False, vmin=-25, vmax=0\n",
    "             )"
   ]
  },
  {
   "cell_type": "code",
   "execution_count": null,
   "id": "9964ac32",
   "metadata": {
    "iooxa": {
     "id": {
      "block": "hA71T62CIiTexlRj4ibA",
      "project": "wjcU0xFUCQKRwMTRhf0q",
      "version": 1
     },
     "outputId": null
    }
   },
   "outputs": [],
   "source": [
    "k.showResults(index=3, \n",
    "    attr='difference(percent)', \n",
    "    contour=False, vmin=0, vmax=100)"
   ]
  },
  {
   "cell_type": "code",
   "execution_count": null,
   "id": "612f8d94",
   "metadata": {
    "iooxa": {
     "id": {
      "block": "BcRwDf0GZ1VV1sYiblcl",
      "project": "wjcU0xFUCQKRwMTRhf0q",
      "version": 1
     },
     "outputId": null
    }
   },
   "outputs": [],
   "source": [
    "k.showResults(index=4, \n",
    "    attr='difference(percent)', \n",
    "    contour=False, vmin=0, vmax=100)"
   ]
  },
  {
   "cell_type": "code",
   "execution_count": null,
   "id": "727ce4c9",
   "metadata": {
    "iooxa": {
     "id": {
      "block": "6cCVn70t3uzeV9LGwoDm",
      "project": "wjcU0xFUCQKRwMTRhf0q",
      "version": 1
     },
     "outputId": null
    }
   },
   "outputs": [],
   "source": [
    "k.showResults(index=5, \n",
    "    attr='difference(percent)', \n",
    "    contour=False, vmin=0, vmax=100)"
   ]
  }
 ],
 "metadata": {
  "iooxa": {
   "id": {
    "block": "P7qkLSkSikI2jMDAx45k",
    "project": "wjcU0xFUCQKRwMTRhf0q",
    "version": 1
   }
  },
  "kernelspec": {
   "display_name": "resipy",
   "language": "python",
   "name": "resipy"
  },
  "language_info": {
   "codemirror_mode": {
    "name": "ipython",
    "version": 3
   },
   "file_extension": ".py",
   "mimetype": "text/x-python",
   "name": "python",
   "nbconvert_exporter": "python",
   "pygments_lexer": "ipython3",
   "version": "3.9.5"
  }
 },
 "nbformat": 4,
 "nbformat_minor": 5
}
