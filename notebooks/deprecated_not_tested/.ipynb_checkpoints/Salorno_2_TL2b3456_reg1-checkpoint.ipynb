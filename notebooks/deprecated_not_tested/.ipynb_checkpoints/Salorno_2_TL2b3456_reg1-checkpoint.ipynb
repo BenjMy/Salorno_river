{
 "cells": [
  {
   "cell_type": "markdown",
   "id": "faabd84d",
   "metadata": {
    "iooxa": {
     "id": {
      "block": "KyDznH3jO1kYnQRERk6k",
      "project": "wjcU0xFUCQKRwMTRhf0q",
      "version": 1
     }
    },
    "tags": []
   },
   "source": [
    "# Notebook for the Alento (site nb2) data processing\n",
    "\n",
    "- 🔨 Data acquisition: G. Cassiani\n",
    "- Notebook Author: B. Mary\n",
    "\n",
    "### Steps to reproduce\n",
    "- import all libraries\n",
    "- import raw merged data \n",
    "- create resipy project 3d\n",
    "- import electrode geometry\n",
    "- create thetra mesh\n",
    "- invert\n",
    "- show results "
   ]
  },
  {
   "cell_type": "code",
   "execution_count": 12,
   "id": "5e2820f4",
   "metadata": {
    "iooxa": {
     "id": {
      "block": "Gk0TEsqPscmLCdfidnXW",
      "project": "wjcU0xFUCQKRwMTRhf0q",
      "version": 4
     },
     "outputId": null
    }
   },
   "outputs": [],
   "source": [
    "#!/usr/bin/env python3\n",
    "# -*- coding: utf-8 -*-\n",
    "\"\"\"\n",
    "Created on Mon Dec  6 09:22:55 2021\n",
    "\n",
    "@author: ben\n",
    "\"\"\"\n",
    "# import resipy and other useful libraries\n",
    "# -----------------------------------------------------------------------------\n",
    "#get_ipython().run_line_magic('matplotlib', 'inline')\n",
    "import warnings\n",
    "warnings.filterwarnings('ignore')\n",
    "import os\n",
    "import sys\n",
    "import pandas as pd\n",
    "import numpy as np\n",
    "import matplotlib.pyplot as plt\n",
    "import pyvista as pv\n",
    "\n",
    "import ipywidgets"
   ]
  },
  {
   "cell_type": "code",
   "execution_count": 13,
   "id": "95622265",
   "metadata": {
    "iooxa": {
     "id": {
      "block": "mt68ytwCjpgr8sYmPMXK",
      "project": "wjcU0xFUCQKRwMTRhf0q",
      "version": 1
     },
     "outputId": null
    }
   },
   "outputs": [],
   "source": [
    "#!pip install resipy==3.3.2"
   ]
  },
  {
   "cell_type": "code",
   "execution_count": 14,
   "id": "0b07c466",
   "metadata": {
    "iooxa": {
     "id": {
      "block": "LdTVdqsARKtesqUZIQFV",
      "project": "wjcU0xFUCQKRwMTRhf0q",
      "version": 3
     },
     "outputId": null
    }
   },
   "outputs": [],
   "source": [
    "correct_topo = 0\n",
    "per_rec = 10 #10"
   ]
  },
  {
   "cell_type": "code",
   "execution_count": 15,
   "id": "9820a9ab",
   "metadata": {
    "iooxa": {
     "id": {
      "block": "OOdbvVlz0dbKayXR10vX",
      "project": "wjcU0xFUCQKRwMTRhf0q",
      "version": 1
     },
     "outputId": {
      "block": "v5Jy9ZPy1UK187aezdvI",
      "project": "wjcU0xFUCQKRwMTRhf0q",
      "version": 1
     }
    }
   },
   "outputs": [],
   "source": [
    "sys.path.append((os.path.relpath('../src'))) # add here the relative path of the API folder\n",
    "from resipy import Project"
   ]
  },
  {
   "cell_type": "code",
   "execution_count": 16,
   "id": "82689086",
   "metadata": {
    "iooxa": {
     "id": {
      "block": "LYVEuGivjWpD0inYkJt5",
      "project": "wjcU0xFUCQKRwMTRhf0q",
      "version": 5
     },
     "outputId": {
      "block": "0Rc5egocVYqglUj1ZBQJ",
      "project": "wjcU0xFUCQKRwMTRhf0q",
      "version": 5
     }
    }
   },
   "outputs": [
    {
     "name": "stdout",
     "output_type": "stream",
     "text": [
      "Working directory is: /home/ben/Documents/GitHub/BenjMy/Salorno_river/INV/timeLapse/TL2b3456regMode1\n",
      "clearing dirname\n"
     ]
    }
   ],
   "source": [
    "regMode = 1\n",
    "dir_simu = '../INV/timeLapse/TL2b3456' + 'regMode' + str(regMode)\n",
    "k = Project(dirname=dir_simu, typ='R3t')\n",
    "k.setTitle('Salorno_site2')"
   ]
  },
  {
   "cell_type": "markdown",
   "id": "abde4ad9",
   "metadata": {
    "iooxa": {
     "id": {
      "block": "QKExGcHEqXVNNyr6PpFV",
      "project": "wjcU0xFUCQKRwMTRhf0q",
      "version": 1
     }
    }
   },
   "source": [
    "# Set reciprocal filter to 10%"
   ]
  },
  {
   "cell_type": "code",
   "execution_count": 17,
   "id": "4bd12974",
   "metadata": {
    "iooxa": {
     "id": {
      "block": "Lrfg5B5v2c5ybM6hZppX",
      "project": "wjcU0xFUCQKRwMTRhf0q",
      "version": 1
     },
     "outputId": {
      "block": "CXiVUjgL6bfwhldJqmpK",
      "project": "wjcU0xFUCQKRwMTRhf0q",
      "version": 1
     }
    }
   },
   "outputs": [
    {
     "name": "stdout",
     "output_type": "stream",
     "text": [
      "/home/ben/Documents/GitHub/BenjMy/Salorno_river/notebooks\n"
     ]
    }
   ],
   "source": [
    "print(os.getcwd())\n",
    "\n",
    "import pandas\n",
    "\n",
    "filenames = [\n",
    "            #'../rawData/file120data1.dat',\n",
    "            '../rawData/file120data2.dat',\n",
    "            '../rawData/file120data3.dat',\n",
    "            '../rawData/file120data4.dat',\n",
    "            #'../rawData/file120data5.dat',\n",
    "            #'../rawData/file120data6.dat',\n",
    "            ]"
   ]
  },
  {
   "cell_type": "code",
   "execution_count": 18,
   "id": "5cf13a2a",
   "metadata": {
    "iooxa": {
     "id": {
      "block": "9zv29XqQgONzHvoLmpbq",
      "project": "wjcU0xFUCQKRwMTRhf0q",
      "version": 1
     },
     "outputId": null
    }
   },
   "outputs": [],
   "source": [
    "# import raw data and reshape for resipy \n",
    "# -----------------------------------------------------------------------------\n",
    "#data = np.loadtxt('../rawData/file120data.dat')\n",
    "\n",
    "#data_df = pd.DataFrame(data[:,[0,1,2,3,8,9]], columns=['Spa.1','Spa.2','Spa.3','Spa.4','Vp' ,'In'])\n",
    "#data_df['Spa.1'] = data_df['Spa.1'].astype(int)\n",
    "#data_df['Spa.2'] =data_df['Spa.2'].astype(int)\n",
    "#data_df['Spa.3'] =data_df['Spa.3'].astype(int)\n",
    "#data_df['Spa.4'] = data_df['Spa.4'].astype(int)\n",
    "\n",
    "#data_df['dev'] = np.zeros(len(data_df['Spa.1']))\n",
    "#data_df.to_csv('./file120data.csv', index=False)\n",
    "\n",
    "#data_df.head()\n"
   ]
  },
  {
   "cell_type": "code",
   "execution_count": 19,
   "id": "8c03638a",
   "metadata": {
    "iooxa": {
     "id": {
      "block": "7XfDJjP9EP1pUHfpcB9X",
      "project": "wjcU0xFUCQKRwMTRhf0q",
      "version": 1
     },
     "outputId": null
    }
   },
   "outputs": [],
   "source": [
    "column_names = ['Spa.1','Spa.2','Spa.3','Spa.4','Vp','In']\n",
    "idx = [0,1,2,3,8,9]\n",
    "filenames_csv = []\n",
    "for f in filenames:\n",
    "    numpyfile = np.loadtxt(f, skiprows=1)\n",
    "    df=pd.DataFrame(numpyfile[:,idx],columns=column_names)\n",
    "    df['dev']=np.zeros(len(df['Spa.1']))\n",
    "    df = df.astype({\"Spa.1\": int}) \n",
    "    df = df.astype({\"Spa.2\": int}) \n",
    "    df = df.astype({\"Spa.3\": int}) \n",
    "    df = df.astype({\"Spa.4\": int}) \n",
    "    filenames_csv.append(f + '.csv')\n",
    "    df.to_csv(f + '.csv',sep=',',index=False)"
   ]
  },
  {
   "cell_type": "code",
   "execution_count": 20,
   "id": "0c5a0dca",
   "metadata": {
    "iooxa": {
     "id": {
      "block": "zgFL5WeoDydwqsM1x8Ke",
      "project": "wjcU0xFUCQKRwMTRhf0q",
      "version": 1
     },
     "outputId": {
      "block": "Xp3zjgsi9BSaR34GVBAY",
      "project": "wjcU0xFUCQKRwMTRhf0q",
      "version": 1
     }
    }
   },
   "outputs": [
    {
     "data": {
      "text/plain": [
       "['../rawData/file120data2.dat.csv',\n",
       " '../rawData/file120data3.dat.csv',\n",
       " '../rawData/file120data4.dat.csv']"
      ]
     },
     "execution_count": 20,
     "metadata": {},
     "output_type": "execute_result"
    }
   ],
   "source": [
    "filenames_csv"
   ]
  },
  {
   "cell_type": "code",
   "execution_count": 21,
   "id": "38e93799",
   "metadata": {
    "iooxa": {
     "id": {
      "block": "mDeuHKDnWLVS7v3smOld",
      "project": "wjcU0xFUCQKRwMTRhf0q",
      "version": 5
     },
     "outputId": {
      "block": "eX6hEPoAEXYagTYUX1yx",
      "project": "wjcU0xFUCQKRwMTRhf0q",
      "version": 5
     }
    }
   },
   "outputs": [
    {
     "name": "stdout",
     "output_type": "stream",
     "text": [
      "/home/ben/Documents/GitHub/BenjMy/Salorno_river/notebooks\n",
      "3/3 imported\n",
      "10528 measurements with greater than 10.0% reciprocal error removed!\n",
      "10208 measurements with greater than 10.0% reciprocal error removed!\n",
      "10186 measurements with greater than 10.0% reciprocal error removed!\n"
     ]
    },
    {
     "data": {
      "text/plain": [
       "30922"
      ]
     },
     "execution_count": 21,
     "metadata": {},
     "output_type": "execute_result"
    }
   ],
   "source": [
    "# create survey\n",
    "# -----------------------------------------------------------------------------\n",
    "print(os.getcwd())\n",
    "k.createTimeLapseSurvey(filenames_csv,\n",
    "                         ftype='Syscal')\n",
    "k.filterRecip(index=-1, percent=per_rec)"
   ]
  },
  {
   "cell_type": "markdown",
   "id": "16fb1c2a",
   "metadata": {
    "iooxa": {
     "id": {
      "block": "Y0mhlV9WaxsSCxa0Lsmo",
      "project": "wjcU0xFUCQKRwMTRhf0q",
      "version": 1
     }
    }
   },
   "source": [
    "# Create boreholes geometry\n",
    "\n",
    "### raw file: coordinatepozzilaghetti.txt"
   ]
  },
  {
   "cell_type": "code",
   "execution_count": 22,
   "id": "4dc3ad81",
   "metadata": {
    "iooxa": {
     "id": {
      "block": "hdnQP7EI6wV7S5lwA8Pm",
      "project": "wjcU0xFUCQKRwMTRhf0q",
      "version": 6
     },
     "outputId": {
      "block": "TufHnhraubhTNpiMII9Y",
      "project": "wjcU0xFUCQKRwMTRhf0q",
      "version": 6
     }
    }
   },
   "outputs": [
    {
     "data": {
      "image/png": "[encoded data removed]",
      "text/plain": [
       "<Figure size 432x288 with 1 Axes>"
      ]
     },
     "metadata": {
      "needs_background": "light"
     },
     "output_type": "display_data"
    },
    {
     "data": {
      "text/html": [
       "<div>\n",
       "<style scoped>\n",
       "    .dataframe tbody tr th:only-of-type {\n",
       "        vertical-align: middle;\n",
       "    }\n",
       "\n",
       "    .dataframe tbody tr th {\n",
       "        vertical-align: top;\n",
       "    }\n",
       "\n",
       "    .dataframe thead th {\n",
       "        text-align: right;\n",
       "    }\n",
       "</style>\n",
       "<table border=\"1\" class=\"dataframe\">\n",
       "  <thead>\n",
       "    <tr style=\"text-align: right;\">\n",
       "      <th></th>\n",
       "      <th>x</th>\n",
       "      <th>y</th>\n",
       "      <th>z</th>\n",
       "      <th>label</th>\n",
       "      <th>buried</th>\n",
       "    </tr>\n",
       "  </thead>\n",
       "  <tbody>\n",
       "    <tr>\n",
       "      <th>0</th>\n",
       "      <td>0.0</td>\n",
       "      <td>9.8939</td>\n",
       "      <td>-25.0</td>\n",
       "      <td>1</td>\n",
       "      <td>True</td>\n",
       "    </tr>\n",
       "    <tr>\n",
       "      <th>1</th>\n",
       "      <td>0.0</td>\n",
       "      <td>9.8939</td>\n",
       "      <td>-24.0</td>\n",
       "      <td>2</td>\n",
       "      <td>True</td>\n",
       "    </tr>\n",
       "    <tr>\n",
       "      <th>2</th>\n",
       "      <td>0.0</td>\n",
       "      <td>9.8939</td>\n",
       "      <td>-23.0</td>\n",
       "      <td>3</td>\n",
       "      <td>True</td>\n",
       "    </tr>\n",
       "    <tr>\n",
       "      <th>3</th>\n",
       "      <td>0.0</td>\n",
       "      <td>9.8939</td>\n",
       "      <td>-22.0</td>\n",
       "      <td>4</td>\n",
       "      <td>True</td>\n",
       "    </tr>\n",
       "    <tr>\n",
       "      <th>4</th>\n",
       "      <td>0.0</td>\n",
       "      <td>9.8939</td>\n",
       "      <td>-21.0</td>\n",
       "      <td>5</td>\n",
       "      <td>True</td>\n",
       "    </tr>\n",
       "  </tbody>\n",
       "</table>\n",
       "</div>"
      ],
      "text/plain": [
       "     x       y     z label  buried\n",
       "0  0.0  9.8939 -25.0     1    True\n",
       "1  0.0  9.8939 -24.0     2    True\n",
       "2  0.0  9.8939 -23.0     3    True\n",
       "3  0.0  9.8939 -22.0     4    True\n",
       "4  0.0  9.8939 -21.0     5    True"
      ]
     },
     "execution_count": 22,
     "metadata": {},
     "output_type": "execute_result"
    }
   ],
   "source": [
    "# create boreholes geometry\n",
    "# -----------------------------------------------------------------------------\n",
    "nb_elecs_bor = 24\n",
    "elecs_spacing = 1\n",
    "offset = 1\n",
    "asc_bor = np.arange(-nb_elecs_bor*elecs_spacing-offset,0-offset)\n",
    "des_bor = np.flip(asc_bor)\n",
    "elecs_z = np.hstack([asc_bor,des_bor,des_bor,des_bor,des_bor])\n",
    "\n",
    "elecs = []\n",
    "label = []\n",
    "\n",
    "# lat/long of the electrodes\n",
    "# -----------------------------------------------------------------------------\n",
    "pozzi_coords = pd.read_csv('../survey/coordinatepozzilaghetti.txt', header='infer')\n",
    "\n",
    "# lat/long to absolute positions\n",
    "# -----------------------------------------------------------------------------\n",
    "pozzi_coords['x'] = pozzi_coords['x'] - min(pozzi_coords['x'])\n",
    "pozzi_coords['y'] = pozzi_coords['y'] - min(pozzi_coords['y'])\n",
    "pozzi_coords['z'] = pozzi_coords['z'] - max(pozzi_coords['z'])\n",
    "\n",
    "\n",
    "i=1\n",
    "for index, row in pozzi_coords.iterrows():\n",
    "    for ne in range(len(asc_bor)):\n",
    "        elecs.append([row[1],row[2],row[3]])\n",
    "        # print([str(1),str((ne+1)*(index+1))])\n",
    "        # label.append(' '.join([str(index+1),str(ne+1)]))\n",
    "        # label.append(' '.join([str(1),str(i)]))\n",
    "        label.append(' '.join([str(i)]))\n",
    "        i +=1\n",
    "\n",
    "# correct for altitude\n",
    "# -----------------------------------------------------------------------------\n",
    "for ze in enumerate(elecs_z):\n",
    "    # print(ze)\n",
    "    if correct_topo == 1:\n",
    "        elecs[ze[0]][2] +=  ze[1]\n",
    "    else:\n",
    "        elecs[ze[0]][2] =  ze[1]\n",
    "\n",
    "elecs = np.vstack(elecs)\n",
    "\n",
    "if correct_topo == 1:\n",
    "    max_elecs = pozzi_coords['z'] - 2\n",
    "else:\n",
    "    max_elecs= max(elecs[:,2])\n",
    "\n",
    "# buried flag for upper surface electrode is False!\n",
    "# -----------------------------------------------------------------------------\n",
    "buried = []\n",
    "for e in elecs:\n",
    "    if (round(e[2],4) == round(max_elecs, 4)).any():\n",
    "        buried.append(False)\n",
    "    else:\n",
    "        buried.append(True)\n",
    "            \n",
    "# plot electrode positions\n",
    "# -----------------------------------------------------------------------------\n",
    "fig = plt.figure()\n",
    "ax = fig.add_subplot(projection='3d')\n",
    "\n",
    "ax.scatter(elecs[:,0], elecs[:,1], elecs[:,2], marker='o')\n",
    "\n",
    "ax.set_xlabel('Lat (m)')\n",
    "ax.set_ylabel('Long (m)')\n",
    "ax.set_zlabel('Altitude z (m)')\n",
    "\n",
    "plt.show()\n",
    "\n",
    "# electrode positions to dataframe\n",
    "# -----------------------------------------------------------------------------\n",
    "elecs_df = pd.DataFrame(elecs,columns=['x', 'y', 'z'])\n",
    "elecs_df['label'] = label\n",
    "elecs_df['buried'] = buried\n",
    "\n",
    "elecs_df.to_csv('./elecs120data.csv', index=False)\n",
    "elecs_df.head()"
   ]
  },
  {
   "cell_type": "code",
   "execution_count": 23,
   "id": "d318b90d",
   "metadata": {
    "iooxa": {
     "id": {
      "block": "InEk3Dl8TqpZLAOr7gCK",
      "project": "wjcU0xFUCQKRwMTRhf0q",
      "version": 6
     },
     "outputId": {
      "block": "701UVe6n2FvZUEBDeXGr",
      "project": "wjcU0xFUCQKRwMTRhf0q",
      "version": 6
     }
    }
   },
   "outputs": [
    {
     "name": "stdout",
     "output_type": "stream",
     "text": [
      "Creating tetrahedral mesh...done (53740 elements)\n"
     ]
    }
   ],
   "source": [
    "k.setElec(elecs_df)\n",
    "#k.createMesh(refine=0)\n",
    "k.createMesh(refine=0,cl_factor=5,cl=1) #,fmd=1\n",
    "\n",
    "#k.showMesh()\n",
    "             # cl_factor=8.00, \n",
    "             # cln_factor=100.00,"
   ]
  },
  {
   "cell_type": "markdown",
   "id": "f21aeeb4",
   "metadata": {
    "iooxa": {
     "id": {
      "block": "k0kdBLETXAhifNWq8oRQ",
      "project": "wjcU0xFUCQKRwMTRhf0q",
      "version": 1
     }
    }
   },
   "source": [
    "# Inversion"
   ]
  },
  {
   "cell_type": "code",
   "execution_count": null,
   "id": "c7747a35",
   "metadata": {
    "iooxa": {
     "id": {
      "block": "mxzjvlxi1Fgw3fBHBQw2",
      "project": "wjcU0xFUCQKRwMTRhf0q",
      "version": 4
     },
     "outputId": {
      "block": "sU6AE1njAgHioH28zu96",
      "project": "wjcU0xFUCQKRwMTRhf0q",
      "version": 4
     }
    },
    "tags": []
   },
   "outputs": [
    {
     "name": "stdout",
     "output_type": "stream",
     "text": [
      "Writing .in file and protocol.dat... done\n",
      "------------ INVERTING REFERENCE SURVEY ---------------\n",
      "\n",
      "\n",
      " >> R 3 t     E R T    M o d e l    v 2.31 <<\n",
      "\n",
      " >> Date: 01-07-2022\n",
      " >> Salorno_site2                                                                   \n",
      " >> I n v e r s e   S o l u t i o n   S e l e c t e d <<\n",
      " >> A d v a n c e d   M e s h   I n p u t <<\n",
      " >> T e t r a h e d r a l   E l e m e n t   M e s h <<\n",
      "\n",
      " >> Reading mesh file \n",
      " >> Determining storage needed for finite element conductance matrix\n",
      " >> Generating index array for finite element conductance matrix\n",
      " >> Reading resistivity model from res0.dat                                                                        \n",
      "\n",
      " >> L o g - D a t a   I n v e r s i o n <<\n",
      " >> N o r m a l   R e g u l a r i s a t i o n <<\n",
      "\n",
      " >> Memory estimates:\n",
      "    For   1000 measurements the memory needed is:          0.449 Gb\n",
      "    For   2000 measurements the memory needed is:          0.879 Gb\n",
      "    For   5000 measurements the memory needed is:          2.169 Gb\n",
      "    For  10000 measurements the memory needed is:          4.319 Gb\n",
      "\n",
      " >> Forming roughness matrix\n",
      "\n",
      " >> Number of measurements read: 4673\n",
      "\n",
      " >> Total Memory required is:          2.028 Gb\n",
      "\n",
      "\n",
      " Processing frame   1 - output to file f001.dat\n",
      "\n",
      "   Iteration   1\n",
      "     Initial RMS Misfit:         6.32      Number of data ignored:   253\n",
      "     Alpha:       24013.535   RMS Misfit:        5.83  Roughness:        0.161\n",
      "     Alpha:       11146.096   RMS Misfit:        5.82  Roughness:        0.201\n",
      "     Alpha:        5173.559   RMS Misfit:        5.60  Roughness:        1.242\n",
      "     Alpha:        2401.354   RMS Misfit:        5.39  Roughness:        3.389\n",
      "     Alpha:        1114.610   RMS Misfit:        5.00  Roughness:       11.046\n",
      "     Alpha:         517.356   RMS Misfit:        4.60  Roughness:       26.987\n",
      "     Alpha:         240.135   RMS Misfit:        4.20  Roughness:       57.908\n",
      "     Alpha:         111.461   RMS Misfit:        3.92  Roughness:      107.020\n",
      "     Alpha:          51.736   RMS Misfit:        3.92  Roughness:      181.513\n",
      "     Step length set to      1.000\n",
      "     Final RMS Misfit:        3.92\n",
      "     Updated data weights\n",
      "\n",
      "   Iteration   2\n",
      "     Initial RMS Misfit:         2.51      Number of data ignored:   258\n"
     ]
    }
   ],
   "source": [
    "# inversion\n",
    "# -----------------------------------------------------------------------------\n",
    "k.param['num_xy_poly'] = 0\n",
    "k.param['z_min'] = -np.inf\n",
    "k.param['z_max'] = np.inf\n",
    "\n",
    "# k.param['z_min'] = max(elecs_df['z'])\n",
    "# k.param['z_max'] = min(elecs_df['z'])\n",
    "k.param['data_type'] = 1 # using log of resistitivy\n",
    "k.err = False # if we want to use the error from the error models fitted before\n",
    "k.param['a_wgt'] = 0.01\n",
    "k.param['b_wgt'] = per_rec/100 #0.05\n",
    "k.param['reg_mode'] = regMode\n",
    "k.invert(parallel=False) # this will do the inversion\n",
    "# k.saveData(MainPath)"
   ]
  },
  {
   "cell_type": "code",
   "execution_count": null,
   "id": "45242ac3",
   "metadata": {
    "iooxa": {
     "id": {
      "block": "Ft9Zs89b8bwkohxHH0nP",
      "project": "wjcU0xFUCQKRwMTRhf0q",
      "version": 2
     },
     "outputId": {
      "block": "gq6N97z3m7Vm2YJXCEVH",
      "project": "wjcU0xFUCQKRwMTRhf0q",
      "version": 2
     }
    }
   },
   "outputs": [],
   "source": [
    "# save project\n",
    "# -----------------------------------------------------------------------------\n",
    "k.saveProject('Salorno_TL2b3456' + 'regMode' + str(regMode))"
   ]
  },
  {
   "cell_type": "markdown",
   "id": "f7411f3b",
   "metadata": {
    "iooxa": {
     "id": {
      "block": "GwBWSHgFP2QPraZI8pr9",
      "project": "wjcU0xFUCQKRwMTRhf0q",
      "version": 1
     }
    }
   },
   "source": [
    "# Results"
   ]
  },
  {
   "cell_type": "code",
   "execution_count": null,
   "id": "f6a4b7b2",
   "metadata": {
    "iooxa": {
     "id": {
      "block": "8wK9OEbGBb7Ztisc8i17",
      "project": "wjcU0xFUCQKRwMTRhf0q",
      "version": 2
     },
     "outputId": {
      "block": "SzlcYVT8lAgY1BixbaqT",
      "project": "wjcU0xFUCQKRwMTRhf0q",
      "version": 2
     }
    }
   },
   "outputs": [],
   "source": [
    "#pl = pv.Plotter()\n",
    "#mesh = pv.read(k.dirname + '/f001_res.vtk')\n",
    "#pl.add_mesh(mesh)\n",
    "#pl.show()\n",
    "# https://hkex.gitlab.io/resipy/auto_examples/nb_3d-time-lapse.html\n"
   ]
  },
  {
   "cell_type": "code",
   "execution_count": null,
   "id": "a724fa57",
   "metadata": {
    "iooxa": {
     "id": {
      "block": "tBWgaMOx4A0aGQ4ckc4d",
      "project": "wjcU0xFUCQKRwMTRhf0q",
      "version": 6
     },
     "outputId": {
      "block": "WE3xCmoyMjOZmbh3mmHB",
      "project": "wjcU0xFUCQKRwMTRhf0q",
      "version": 4
     }
    },
    "tags": []
   },
   "outputs": [],
   "source": [
    "k.showResults(index = 0,\n",
    "              attr='Resistivity(log10)', \n",
    "              sens=True, \n",
    "              contour=True, \n",
    "              use_pyvista=True,\n",
    "              color_map='jet',zlim=[-30,0],\n",
    "              background_color='white')"
   ]
  },
  {
   "cell_type": "code",
   "execution_count": null,
   "id": "8bf602f4",
   "metadata": {
    "iooxa": {
     "id": {
      "block": "MLcsrvERdZ0LKOcKtX78",
      "project": "wjcU0xFUCQKRwMTRhf0q",
      "version": 4
     },
     "outputId": {
      "block": "M1Ar4iwtFqDlabdtY92u",
      "project": "wjcU0xFUCQKRwMTRhf0q",
      "version": 2
     }
    }
   },
   "outputs": [],
   "source": [
    "pl = pv.Plotter()\n",
    "k.showResults(index = 0,\n",
    "              attr='Resistivity(ohm.m)',\n",
    "              ax=pl, pvslices=([5,15,25],[15],[]), \n",
    "              pvgrid=True, \n",
    "              vmin=0, \n",
    "              vmax=300, \n",
    "              color_map='jet',zlim=[-30,0],\n",
    "              background_color='white')"
   ]
  },
  {
   "cell_type": "code",
   "execution_count": null,
   "id": "97af3b9a",
   "metadata": {
    "iooxa": {
     "id": {
      "block": "m6KU6SJnYlzTeK4Hib5N",
      "project": "wjcU0xFUCQKRwMTRhf0q",
      "version": 4
     },
     "outputId": {
      "block": "AyF9os4x1d3sucwh4tIW",
      "project": "wjcU0xFUCQKRwMTRhf0q",
      "version": 2
     }
    }
   },
   "outputs": [],
   "source": [
    "pl = pv.Plotter()\n",
    "k.showResults(\n",
    "              attr='Resistivity(ohm.m)',\n",
    "              ax=pl, pvthreshold=[0,75], pvgrid=True,zlim=[-30,0],\n",
    "              background_color='white')"
   ]
  },
  {
   "cell_type": "code",
   "execution_count": null,
   "id": "bdb32861",
   "metadata": {},
   "outputs": [],
   "source": [
    "k.showResults(index=1, pvslices=([],[],[-12]), \n",
    "              pvgrid=True, attr='difference(percent)', \n",
    "                contour=False, vmin=-25, vmax=0\n",
    "             )"
   ]
  },
  {
   "cell_type": "code",
   "execution_count": null,
   "id": "a0f53ec4",
   "metadata": {},
   "outputs": [],
   "source": [
    "k.showResults(index=2,pvslices=([],[],[-12]), \n",
    "              pvgrid=True, attr='difference(percent)', \n",
    "                contour=False, vmin=-25, vmax=0\n",
    "             )"
   ]
  },
  {
   "cell_type": "code",
   "execution_count": null,
   "id": "14965f62",
   "metadata": {},
   "outputs": [],
   "source": [
    "k.showResults(index=3, pvslices=([],[],[-12]), \n",
    "              pvgrid=True, attr='difference(percent)', \n",
    "                contour=False, vmin=-25, vmax=0\n",
    "             )"
   ]
  },
  {
   "cell_type": "code",
   "execution_count": null,
   "id": "98bee82d",
   "metadata": {},
   "outputs": [],
   "source": [
    "k.showResults(index=4, pvslices=([],[],[-12]), \n",
    "              pvgrid=True, attr='difference(percent)', \n",
    "                contour=False, vmin=-25, vmax=0\n",
    "             )"
   ]
  },
  {
   "cell_type": "code",
   "execution_count": null,
   "id": "ed501e64",
   "metadata": {},
   "outputs": [],
   "source": [
    "k.showResults(index=5, pvslices=([],[],[-12]), \n",
    "              pvgrid=True, attr='difference(percent)', \n",
    "                contour=False, vmin=-25, vmax=0\n",
    "             )"
   ]
  }
 ],
 "metadata": {
  "iooxa": {
   "id": {
    "block": "7AomtdrhcqACjYkF2873",
    "project": "wjcU0xFUCQKRwMTRhf0q",
    "version": 1
   }
  },
  "kernelspec": {
   "display_name": "resipy",
   "language": "python",
   "name": "resipy"
  },
  "language_info": {
   "codemirror_mode": {
    "name": "ipython",
    "version": 3
   },
   "file_extension": ".py",
   "mimetype": "text/x-python",
   "name": "python",
   "nbconvert_exporter": "python",
   "pygments_lexer": "ipython3",
   "version": "3.9.5"
  }
 },
 "nbformat": 4,
 "nbformat_minor": 5
}
