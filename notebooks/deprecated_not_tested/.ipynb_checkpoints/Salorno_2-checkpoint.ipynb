{
 "cells": [
  {
   "cell_type": "markdown",
   "id": "df0c5b53",
   "metadata": {
    "iooxa": {
     "id": {
      "block": "KyDznH3jO1kYnQRERk6k",
      "project": "wjcU0xFUCQKRwMTRhf0q",
      "version": 1
     }
    },
    "tags": []
   },
   "source": [
    "# Notebook for the Alento (site nb2) data processing\n",
    "\n",
    "- 🔨 Data acquisition: G. Cassiani\n",
    "- Notebook Author: B. Mary\n",
    "\n",
    "### Steps to reproduce\n",
    "- import all libraries\n",
    "- import raw merged data \n",
    "- create resipy project 3d\n",
    "- import electrode geometry\n",
    "- create thetra mesh\n",
    "- invert\n",
    "- show results "
   ]
  },
  {
   "cell_type": "code",
   "execution_count": 2,
   "id": "d68f4efc",
   "metadata": {
    "iooxa": {
     "id": {
      "block": "Gk0TEsqPscmLCdfidnXW",
      "project": "wjcU0xFUCQKRwMTRhf0q",
      "version": 2
     },
     "outputId": null
    }
   },
   "outputs": [],
   "source": [
    "#!/usr/bin/env python3\n",
    "# -*- coding: utf-8 -*-\n",
    "\"\"\"\n",
    "Created on Mon Dec  6 09:22:55 2021\n",
    "\n",
    "@author: ben\n",
    "\"\"\"\n",
    "# import resipy and other useful libraries\n",
    "# -----------------------------------------------------------------------------\n",
    "#get_ipython().run_line_magic('matplotlib', 'inline')\n",
    "import warnings\n",
    "warnings.filterwarnings('ignore')\n",
    "import os\n",
    "import sys\n",
    "import pandas as pd\n",
    "import numpy as np\n",
    "import matplotlib.pyplot as plt\n",
    "import pyvista as pv\n",
    "\n"
   ]
  },
  {
   "cell_type": "code",
   "execution_count": 3,
   "id": "c3c9cb7e-120d-4d1b-8968-fdf970f0b76b",
   "metadata": {},
   "outputs": [],
   "source": [
    "#!pip install resipy==3.3.2"
   ]
  },
  {
   "cell_type": "code",
   "execution_count": 4,
   "id": "06ebac2c",
   "metadata": {
    "iooxa": {
     "id": {
      "block": "LdTVdqsARKtesqUZIQFV",
      "project": "wjcU0xFUCQKRwMTRhf0q",
      "version": 3
     },
     "outputId": null
    }
   },
   "outputs": [],
   "source": [
    "correct_topo = 1\n",
    "per_rec = 10 #10"
   ]
  },
  {
   "cell_type": "code",
   "execution_count": 5,
   "id": "83240527-a53a-4b3a-96c6-adf3d00318bc",
   "metadata": {},
   "outputs": [
    {
     "name": "stdout",
     "output_type": "stream",
     "text": [
      "API path =  /home/ben/miniconda3/lib/python3.9/site-packages/resipy\n",
      "ResIPy version =  3.3.2\n",
      "cR2.exe found and up to date.\n",
      "R3t.exe found and up to date.\n",
      "cR3t.exe found and up to date.\n"
     ]
    }
   ],
   "source": [
    "sys.path.append((os.path.relpath('../src'))) # add here the relative path of the API folder\n",
    "from resipy import Project"
   ]
  },
  {
   "cell_type": "code",
   "execution_count": 6,
   "id": "6e0de1af",
   "metadata": {
    "iooxa": {
     "id": {
      "block": "LYVEuGivjWpD0inYkJt5",
      "project": "wjcU0xFUCQKRwMTRhf0q",
      "version": 3
     },
     "outputId": {
      "block": "0Rc5egocVYqglUj1ZBQJ",
      "project": "wjcU0xFUCQKRwMTRhf0q",
      "version": 3
     }
    }
   },
   "outputs": [
    {
     "name": "stdout",
     "output_type": "stream",
     "text": [
      "Working directory is: /home/ben/Documents/GitHub/BenjMy/Salorno_river/notebooks\n",
      "clearing dirname\n"
     ]
    }
   ],
   "source": [
    "\n",
    "# dir_simu = './background_time'\n",
    "dir_simu = '.'\n",
    "k = Project(dirname=dir_simu, typ='R3t')\n",
    "k.setTitle('Salorno_site2')"
   ]
  },
  {
   "cell_type": "markdown",
   "id": "054b56fd",
   "metadata": {
    "iooxa": {
     "id": {
      "block": "XPHE4s0dAMcT1jjXrF2g",
      "project": "wjcU0xFUCQKRwMTRhf0q",
      "version": 1
     }
    },
    "tags": []
   },
   "source": [
    "# Import RAW data\n",
    "### Raw file: file120data.dat"
   ]
  },
  {
   "cell_type": "markdown",
   "id": "24020ed9",
   "metadata": {
    "iooxa": {
     "id": {
      "block": "QKExGcHEqXVNNyr6PpFV",
      "project": "wjcU0xFUCQKRwMTRhf0q",
      "version": 1
     }
    }
   },
   "source": [
    "# Set reciprocal filter to 10%"
   ]
  },
  {
   "cell_type": "code",
   "execution_count": null,
   "id": "d053e9b9",
   "metadata": {
    "iooxa": {
     "id": {
      "block": "mDeuHKDnWLVS7v3smOld",
      "project": "wjcU0xFUCQKRwMTRhf0q",
      "version": 3
     },
     "outputId": {
      "block": "eX6hEPoAEXYagTYUX1yx",
      "project": "wjcU0xFUCQKRwMTRhf0q",
      "version": 3
     }
    }
   },
   "outputs": [],
   "source": [
    "# create survey\n",
    "# -----------------------------------------------------------------------------\n",
    "k.createSurvey('../rawData/file120data.csv', ftype='Syscal') # read the survey file\n",
    "k.filterRecip(index=-1, percent=per_rec)"
   ]
  },
  {
   "cell_type": "markdown",
   "id": "8e6c25e9",
   "metadata": {
    "iooxa": {
     "id": {
      "block": "Y0mhlV9WaxsSCxa0Lsmo",
      "project": "wjcU0xFUCQKRwMTRhf0q",
      "version": 1
     }
    }
   },
   "source": [
    "# Create boreholes geometry\n",
    "\n",
    "### raw file: coordinatepozzilaghetti.txt"
   ]
  },
  {
   "cell_type": "code",
   "execution_count": null,
   "id": "12092e86",
   "metadata": {
    "iooxa": {
     "id": {
      "block": "hdnQP7EI6wV7S5lwA8Pm",
      "project": "wjcU0xFUCQKRwMTRhf0q",
      "version": 4
     },
     "outputId": {
      "block": "TufHnhraubhTNpiMII9Y",
      "project": "wjcU0xFUCQKRwMTRhf0q",
      "version": 4
     }
    }
   },
   "outputs": [],
   "source": [
    "# create boreholes geometry\n",
    "# -----------------------------------------------------------------------------\n",
    "nb_elecs_bor = 24\n",
    "elecs_spacing = 1\n",
    "offset = 1\n",
    "asc_bor = np.arange(-nb_elecs_bor*elecs_spacing-offset,0-offset)\n",
    "des_bor = np.flip(asc_bor)\n",
    "elecs_z = np.hstack([asc_bor,des_bor,des_bor,des_bor,des_bor])\n",
    "\n",
    "elecs = []\n",
    "label = []\n",
    "\n",
    "# lat/long of the electrodes\n",
    "# -----------------------------------------------------------------------------\n",
    "pozzi_coords = pd.read_csv('../survey/coordinatepozzilaghetti.txt', header='infer')\n",
    "\n",
    "# lat/long to absolute positions\n",
    "# -----------------------------------------------------------------------------\n",
    "pozzi_coords['x'] = pozzi_coords['x'] - min(pozzi_coords['x'])\n",
    "pozzi_coords['y'] = pozzi_coords['y'] - min(pozzi_coords['y'])\n",
    "pozzi_coords['z'] = pozzi_coords['z'] - max(pozzi_coords['z'])\n",
    "\n",
    "\n",
    "i=1\n",
    "for index, row in pozzi_coords.iterrows():\n",
    "    for ne in range(len(asc_bor)):\n",
    "        elecs.append([row[1],row[2],row[3]])\n",
    "        # print([str(1),str((ne+1)*(index+1))])\n",
    "        # label.append(' '.join([str(index+1),str(ne+1)]))\n",
    "        # label.append(' '.join([str(1),str(i)]))\n",
    "        label.append(' '.join([str(i)]))\n",
    "        i +=1\n",
    "\n",
    "# correct for altitude\n",
    "# -----------------------------------------------------------------------------\n",
    "for ze in enumerate(elecs_z):\n",
    "    # print(ze)\n",
    "    if correct_topo == 1:\n",
    "        elecs[ze[0]][2] +=  ze[1]\n",
    "    else:\n",
    "        elecs[ze[0]][2] =  ze[1]\n",
    "\n",
    "elecs = np.vstack(elecs)\n",
    "\n",
    "if correct_topo == 1:\n",
    "    max_elecs = pozzi_coords['z'] - 2\n",
    "else:\n",
    "    max_elecs= max(elecs[:,2])\n",
    "\n",
    "# buried flag for upper surface electrode is False!\n",
    "# -----------------------------------------------------------------------------\n",
    "buried = []\n",
    "for e in elecs:\n",
    "    if (round(e[2],4) == round(max_elecs, 4)).any():\n",
    "        buried.append(False)\n",
    "    else:\n",
    "        buried.append(True)\n",
    "            \n",
    "# plot electrode positions\n",
    "# -----------------------------------------------------------------------------\n",
    "fig = plt.figure()\n",
    "ax = fig.add_subplot(projection='3d')\n",
    "\n",
    "ax.scatter(elecs[:,0], elecs[:,1], elecs[:,2], marker='o')\n",
    "\n",
    "ax.set_xlabel('Lat (m)')\n",
    "ax.set_ylabel('Long (m)')\n",
    "ax.set_zlabel('Altitude z (m)')\n",
    "\n",
    "plt.show()\n",
    "\n",
    "# electrode positions to dataframe\n",
    "# -----------------------------------------------------------------------------\n",
    "elecs_df = pd.DataFrame(elecs,columns=['x', 'y', 'z'])\n",
    "elecs_df['label'] = label\n",
    "elecs_df['buried'] = buried\n",
    "\n",
    "elecs_df.to_csv('./elecs120data.csv', index=False)\n",
    "elecs_df.head()"
   ]
  },
  {
   "cell_type": "markdown",
   "id": "5a160058",
   "metadata": {
    "iooxa": {
     "id": {
      "block": "d5aenvCSq3ebv4SFPO38",
      "project": "wjcU0xFUCQKRwMTRhf0q",
      "version": 1
     }
    }
   },
   "source": [
    "# Create mesh (using gmsh)\n",
    "## refine is set to 1"
   ]
  },
  {
   "cell_type": "code",
   "execution_count": null,
   "id": "33fef6fd",
   "metadata": {
    "iooxa": {
     "id": {
      "block": "InEk3Dl8TqpZLAOr7gCK",
      "project": "wjcU0xFUCQKRwMTRhf0q",
      "version": 4
     },
     "outputId": {
      "block": "701UVe6n2FvZUEBDeXGr",
      "project": "wjcU0xFUCQKRwMTRhf0q",
      "version": 4
     }
    }
   },
   "outputs": [],
   "source": [
    "k.setElec(elecs_df)\n",
    "#k.createMesh(refine=2)\n",
    "k.createMesh(refine=0,cl_factor=5,cl=1) #,fmd=1\n",
    "k.showMesh()\n",
    "             # cl_factor=8.00, \n",
    "             # cln_factor=100.00,"
   ]
  },
  {
   "cell_type": "code",
   "execution_count": null,
   "id": "70d622a8",
   "metadata": {
    "iooxa": {
     "id": {
      "block": "wwo3yBJKmUMnzwcgL8tO",
      "project": "wjcU0xFUCQKRwMTRhf0q",
      "version": 3
     },
     "outputId": {
      "block": "3IZJgFHN4ba1XHrIRb3V",
      "project": "wjcU0xFUCQKRwMTRhf0q",
      "version": 3
     }
    }
   },
   "outputs": [],
   "source": [
    "# import raw data and reshape for resipy \n",
    "# -----------------------------------------------------------------------------\n",
    "data = np.loadtxt('../rawData/file120data.dat')\n",
    "\n",
    "data_df = pd.DataFrame(data[:,[0,1,2,3,8,9]], columns=['Spa.1','Spa.2','Spa.3','Spa.4','Vp' ,'In'])\n",
    "data_df['Spa.1'] = data_df['Spa.1'].astype(int)\n",
    "data_df['Spa.2'] =data_df['Spa.2'].astype(int)\n",
    "data_df['Spa.3'] =data_df['Spa.3'].astype(int)\n",
    "data_df['Spa.4'] = data_df['Spa.4'].astype(int)\n",
    "\n",
    "data_df['dev'] = np.zeros(len(data_df['Spa.1']))\n",
    "data_df.to_csv('./file120data.csv', index=False)\n",
    "\n",
    "data_df.head()\n"
   ]
  },
  {
   "cell_type": "markdown",
   "id": "0e49f927",
   "metadata": {
    "iooxa": {
     "id": {
      "block": "k0kdBLETXAhifNWq8oRQ",
      "project": "wjcU0xFUCQKRwMTRhf0q",
      "version": 1
     }
    }
   },
   "source": [
    "# Inversion"
   ]
  },
  {
   "cell_type": "code",
   "execution_count": null,
   "id": "5dd88781",
   "metadata": {
    "iooxa": {
     "id": {
      "block": "mxzjvlxi1Fgw3fBHBQw2",
      "project": "wjcU0xFUCQKRwMTRhf0q",
      "version": 4
     },
     "outputId": {
      "block": "sU6AE1njAgHioH28zu96",
      "project": "wjcU0xFUCQKRwMTRhf0q",
      "version": 4
     }
    },
    "tags": []
   },
   "outputs": [],
   "source": [
    "# inversion\n",
    "# -----------------------------------------------------------------------------\n",
    "k.param['num_xy_poly'] = 0\n",
    "k.param['z_min'] = -np.inf\n",
    "k.param['z_max'] = np.inf\n",
    "\n",
    "# k.param['z_min'] = max(elecs_df['z'])\n",
    "# k.param['z_max'] = min(elecs_df['z'])\n",
    "k.param['data_type'] = 1 # using log of resistitivy\n",
    "k.err = False # if we want to use the error from the error models fitted before\n",
    "k.param['a_wgt'] = 0.01\n",
    "k.param['b_wgt'] = per_rec/100 #0.05\n",
    "k.invert() # this will do the inversion\n",
    "# k.saveData(MainPath)\n",
    "\n",
    "\n"
   ]
  },
  {
   "cell_type": "markdown",
   "id": "ed03ec46",
   "metadata": {
    "iooxa": {
     "id": {
      "block": "GwBWSHgFP2QPraZI8pr9",
      "project": "wjcU0xFUCQKRwMTRhf0q",
      "version": 1
     }
    }
   },
   "source": [
    "# Results"
   ]
  },
  {
   "cell_type": "code",
   "execution_count": null,
   "id": "0445aee0-36a7-4097-abc6-3aa7eb783835",
   "metadata": {
    "iooxa": {
     "id": {
      "block": "8wK9OEbGBb7Ztisc8i17",
      "project": "wjcU0xFUCQKRwMTRhf0q",
      "version": 2
     },
     "outputId": {
      "block": "SzlcYVT8lAgY1BixbaqT",
      "project": "wjcU0xFUCQKRwMTRhf0q",
      "version": 2
     }
    }
   },
   "outputs": [],
   "source": [
    "#pl = pv.Plotter()\n",
    "#mesh = pv.read(k.dirname + '/f001_res.vtk')\n",
    "#pl.add_mesh(mesh)\n",
    "#pl.show()"
   ]
  },
  {
   "cell_type": "code",
   "execution_count": null,
   "id": "7ee2db7f",
   "metadata": {
    "iooxa": {
     "id": {
      "block": "tBWgaMOx4A0aGQ4ckc4d",
      "project": "wjcU0xFUCQKRwMTRhf0q",
      "version": 4
     },
     "outputId": {
      "block": "WE3xCmoyMjOZmbh3mmHB",
      "project": "wjcU0xFUCQKRwMTRhf0q",
      "version": 2
     }
    },
    "tags": []
   },
   "outputs": [],
   "source": [
    "k.showResults(attr='Resistivity(log10)', \n",
    "              sens=True, \n",
    "              contour=True, \n",
    "              use_pyvista=True,\n",
    "              color_map='jet',zlim=[-30,0],\n",
    "              background_color='white')"
   ]
  },
  {
   "cell_type": "code",
   "execution_count": null,
   "id": "98631a44",
   "metadata": {
    "iooxa": {
     "id": {
      "block": "MLcsrvERdZ0LKOcKtX78",
      "project": "wjcU0xFUCQKRwMTRhf0q",
      "version": 3
     },
     "outputId": {
      "block": "M1Ar4iwtFqDlabdtY92u",
      "project": "wjcU0xFUCQKRwMTRhf0q",
      "version": 2
     }
    }
   },
   "outputs": [],
   "source": [
    "pl = pv.Plotter()\n",
    "k.showResults(attr='Resistivity(ohm.m)',\n",
    "              ax=pl, pvslices=([5,15,25],[15],[]), \n",
    "              pvgrid=True, \n",
    "              vmin=0, \n",
    "              vmax=300, \n",
    "              color_map='jet',zlim=[-30,0],\n",
    "              background_color='white')"
   ]
  },
  {
   "cell_type": "code",
   "execution_count": null,
   "id": "e0f857a9",
   "metadata": {
    "iooxa": {
     "id": {
      "block": "m6KU6SJnYlzTeK4Hib5N",
      "project": "wjcU0xFUCQKRwMTRhf0q",
      "version": 3
     },
     "outputId": {
      "block": "AyF9os4x1d3sucwh4tIW",
      "project": "wjcU0xFUCQKRwMTRhf0q",
      "version": 2
     }
    }
   },
   "outputs": [],
   "source": [
    "pl = pv.Plotter()\n",
    "k.showResults(attr='Resistivity(ohm.m)',\n",
    "              ax=pl, pvthreshold=[0,75], pvgrid=True,zlim=[-30,0],\n",
    "              background_color='white')"
   ]
  },
  {
   "cell_type": "code",
   "execution_count": null,
   "id": "6d35c81f",
   "metadata": {
    "iooxa": {
     "id": {
      "block": "Ft9Zs89b8bwkohxHH0nP",
      "project": "wjcU0xFUCQKRwMTRhf0q",
      "version": 2
     },
     "outputId": {
      "block": "gq6N97z3m7Vm2YJXCEVH",
      "project": "wjcU0xFUCQKRwMTRhf0q",
      "version": 2
     }
    }
   },
   "outputs": [],
   "source": [
    "# save project\n",
    "# -----------------------------------------------------------------------------\n",
    "k.saveProject('Salorno_2')"
   ]
  },
  {
   "cell_type": "code",
   "execution_count": null,
   "id": "f666e61b-1a18-4667-b5e0-caba33d3863b",
   "metadata": {},
   "outputs": [],
   "source": []
  }
 ],
 "metadata": {
  "iooxa": {
   "id": {
    "block": "Fue00wSSGvzP47PFOSsM",
    "project": "wjcU0xFUCQKRwMTRhf0q",
    "version": 4
   }
  },
  "kernelspec": {
   "display_name": "resipy",
   "language": "python",
   "name": "resipy"
  },
  "language_info": {
   "codemirror_mode": {
    "name": "ipython",
    "version": 3
   },
   "file_extension": ".py",
   "mimetype": "text/x-python",
   "name": "python",
   "nbconvert_exporter": "python",
   "pygments_lexer": "ipython3",
   "version": "3.9.5"
  }
 },
 "nbformat": 4,
 "nbformat_minor": 5
}
