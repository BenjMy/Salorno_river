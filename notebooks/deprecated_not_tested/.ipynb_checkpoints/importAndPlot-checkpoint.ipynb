{
 "cells": [
  {
   "cell_type": "markdown",
   "id": "512a8fbd-66ca-4f60-85dc-7371bbf47848",
   "metadata": {
    "iooxa": {
     "id": {
      "block": "lsD8BOddmpouhg9eA37a",
      "project": "wjcU0xFUCQKRwMTRhf0q",
      "version": 1
     }
    }
   },
   "source": [
    "## Independant inversion from T2 to T6"
   ]
  },
  {
   "cell_type": "code",
   "execution_count": 8,
   "id": "47b4edf0-7bc1-4416-8080-4ab5b920958a",
   "metadata": {
    "iooxa": {
     "id": {
      "block": "07rs8y60mGzST1sOraIU",
      "project": "wjcU0xFUCQKRwMTRhf0q",
      "version": 4
     },
     "outputId": {
      "block": "aTL3dSWDk0cG0A2zmZV2",
      "project": "wjcU0xFUCQKRwMTRhf0q",
      "version": 3
     }
    }
   },
   "outputs": [],
   "source": [
    "# -------- ResIPy log file -------\n",
    "\n",
    "import warnings\n",
    "warnings.filterwarnings('ignore')\n",
    "from resipy import Project\n",
    "import pyvista as pv\n",
    "\n",
    "pv.set_jupyter_backend('panel')\n"
   ]
  },
  {
   "cell_type": "raw",
   "id": "e91512c4-c47a-4205-8ba7-57311ffc519e",
   "metadata": {
    "iooxa": {
     "id": {
      "block": "rbyxpZxDXUSR6k1NiHEp",
      "project": "wjcU0xFUCQKRwMTRhf0q",
      "version": 1
     }
    }
   },
   "source": [
    "dir_simu = '../INV/regMode1step' + str(i+2) + '/'\n",
    "k = Project(dirname=dir_simu, typ='R3t')\n",
    "k.loadProject(dir_simu + \"Salorno_2_step\" + str(i+2) + \".resipy\")\n"
   ]
  },
  {
   "cell_type": "code",
   "execution_count": null,
   "id": "cae28d57-4da6-4878-a1e6-0203bca395ee",
   "metadata": {
    "iooxa": {
     "id": {
      "block": "gNISv2sPVDgr95VgI7QM",
      "project": "wjcU0xFUCQKRwMTRhf0q",
      "version": 5
     },
     "outputId": {
      "block": "TcqgM9K3ytlrPNjTT9Ma",
      "project": "wjcU0xFUCQKRwMTRhf0q",
      "version": 4
     }
    },
    "tags": []
   },
   "outputs": [
    {
     "name": "stdout",
     "output_type": "stream",
     "text": [
      "Working directory is: /home/ben/Documents/GitHub/BenjMy/Salorno_river/INV/regMode1step2\n",
      "clearing dirname\n",
      "8993/9677 reciprocal measurements found.\n",
      "15 measurements error > 20 %\n",
      "0\n",
      "Working directory is: /home/ben/Documents/GitHub/BenjMy/Salorno_river/INV/regMode1step3\n",
      "clearing dirname\n",
      "7998/8691 reciprocal measurements found.\n",
      "17 measurements error > 20 %\n"
     ]
    }
   ],
   "source": [
    "pl = pv.Plotter(notebook=True,shape=(2, 3))\n",
    "name = 'Salorno_2_cl5_step_rec10'\n",
    "for i in range(5):\n",
    "    \n",
    "    dir_simu = '../INV/regMode1step' + str(i+2) + '/'\n",
    "    k = Project(dirname=dir_simu, typ='R3t')\n",
    "    #k.loadProject(dir_simu + \"Salorno_2_step\" + str(i+2) + \".resipy\")\n",
    "    k.loadProject(dir_simu + name + str(i+2) + \".resipy\")\n",
    "\n",
    "\n",
    "    if i<3:\n",
    "        pl.subplot(0, i)\n",
    "    else:\n",
    "        pl.subplot(1, i-3)\n",
    "    pl.add_text(\"Time\" + str(i), font_size=10)\n",
    "    print(i)\n",
    "    k.showResults(\n",
    "                  index = 0,\n",
    "                  attr='Resistivity(ohm.m)',\n",
    "                  ax=pl, \n",
    "                  vmin=0, \n",
    "                  vmax=300, \n",
    "                  color_map='jet',zlim=[-30,0],\n",
    "                  background_color='white',\n",
    "                  pvgrid = True,\n",
    "                  pvshow=False,\n",
    "                    )\n",
    "    pl.show_bounds(all_edges=True)\n",
    "    \n",
    "pl.show()"
   ]
  },
  {
   "cell_type": "code",
   "execution_count": null,
   "id": "bb284fd6-666e-40e6-961f-e8f8b4b90278",
   "metadata": {
    "iooxa": {
     "id": {
      "block": "IW75e5xP4kAsfkOdBfYh",
      "project": "wjcU0xFUCQKRwMTRhf0q",
      "version": 5
     },
     "outputId": {
      "block": "n2e5iS9dxjrKX1QEBZHa",
      "project": "wjcU0xFUCQKRwMTRhf0q",
      "version": 4
     }
    }
   },
   "outputs": [],
   "source": [
    "\n",
    "for i in range(5):\n",
    "    \n",
    "    dir_simu = '../INV/regMode1step' + str(i+2) + '/'\n",
    "    k = Project(dirname=dir_simu, typ='R3t')\n",
    "    #k.loadProject(dir_simu + \"Salorno_2_step\" + str(i+2) + \".resipy\")\n",
    "    k.loadProject(dir_simu + name + str(i+2) + \".resipy\")\n",
    "\n",
    "    pl = pv.Plotter(notebook=True)\n",
    "\n",
    "    k.showResults(\n",
    "                  index = 0,\n",
    "                  attr='Resistivity(ohm.m)',\n",
    "                  ax=pl, pvslices=([5,15,25],[15],[]), \n",
    "                  vmin=0, \n",
    "                  vmax=300, \n",
    "                  color_map='jet',zlim=[-30,0],\n",
    "                  background_color='white',\n",
    "                  pvgrid = True,\n",
    "                  pvshow=True,\n",
    "                    )\n",
    "    pl.show_bounds(all_edges=True)"
   ]
  },
  {
   "cell_type": "code",
   "execution_count": null,
   "id": "f8de2709-606e-4c97-b98c-b08cbf83543d",
   "metadata": {
    "iooxa": {
     "id": {
      "block": "IW75e5xP4kAsfkOdBfYh",
      "project": "wjcU0xFUCQKRwMTRhf0q",
      "version": 6
     },
     "outputId": {
      "block": "n2e5iS9dxjrKX1QEBZHa",
      "project": "wjcU0xFUCQKRwMTRhf0q",
      "version": 5
     }
    }
   },
   "outputs": [],
   "source": [
    "pl = pv.Plotter(notebook=True,shape=(2, 3))\n",
    "\n",
    "for i in range(5):\n",
    "    \n",
    "    dir_simu = '../INV/regMode1step' + str(i+2) + '/'\n",
    "    k = Project(dirname=dir_simu, typ='R3t')\n",
    "    #k.loadProject(dir_simu + \"Salorno_2_step\" + str(i+2) + \".resipy\")\n",
    "    k.loadProject(dir_simu + name + str(i+2) + \".resipy\")\n",
    "\n",
    "    if i<3:\n",
    "        pl.subplot(0, i)\n",
    "    else:\n",
    "        pl.subplot(1, i-3)\n",
    "    k.showResults(\n",
    "                  index = 0,\n",
    "                  attr='Resistivity(ohm.m)',\n",
    "                  ax=pl, pvslices=([5,15,25],[15],[]), \n",
    "                  vmin=0, \n",
    "                  vmax=300, \n",
    "                  color_map='jet',zlim=[-30,0],\n",
    "                  background_color='white',\n",
    "                  pvgrid = True,\n",
    "                  pvshow=False,\n",
    "                    )\n",
    "    pl.show_bounds(all_edges=True)\n",
    "\n",
    "pl.show()"
   ]
  },
  {
   "cell_type": "markdown",
   "id": "f275fb26-5e30-4f4d-be63-4e56d6f808a3",
   "metadata": {
    "iooxa": {
     "id": {
      "block": "jctJJfi7zjGnL5kouNSA",
      "project": "wjcU0xFUCQKRwMTRhf0q",
      "version": 1
     }
    }
   },
   "source": [
    "## Time lapse between November 2021 and April 2022"
   ]
  },
  {
   "cell_type": "code",
   "execution_count": null,
   "id": "75c5fc95-dd82-48c5-8176-2314e0706f1c",
   "metadata": {
    "iooxa": {
     "id": {
      "block": "kcrgZYcAzA8wC7otiXPG",
      "project": "wjcU0xFUCQKRwMTRhf0q",
      "version": 3
     },
     "outputId": {
      "block": "aw2HdtzyQIpkquJ7QpjZ",
      "project": "wjcU0xFUCQKRwMTRhf0q",
      "version": 2
     }
    }
   },
   "outputs": [],
   "source": [
    "# -------- ResIPy log file -------\n",
    "\n",
    "from resipy import Project\n",
    "import pyvista as pv\n",
    "dir_simu = '../INV/timeLapse/TL12regMode2/'\n",
    "k = Project(dirname=dir_simu, typ='R3t')\n",
    "#k.loadProject(dir_simu + \"Salorno_TL12_reg2.resipy\")\n",
    "#k.loadProject(dir_simu + \"Salorno_TL12_filtAppRes_estErr.resipy\")\n",
    "k.loadProject(dir_simu + \"Salorno_TL12regMode2rec10finemeshparallelF.resipy\")\n",
    "\n",
    "\n",
    "\n",
    "\n"
   ]
  },
  {
   "cell_type": "code",
   "execution_count": null,
   "id": "5797944b-9b5e-4c77-aaef-1b13ab1ce2c0",
   "metadata": {
    "iooxa": {
     "id": {
      "block": "w6NLKoHpLRD9RYLw7IHW",
      "project": "wjcU0xFUCQKRwMTRhf0q",
      "version": 6
     },
     "outputId": {
      "block": "EPosl0n53ngltp1AEi4Z",
      "project": "wjcU0xFUCQKRwMTRhf0q",
      "version": 5
     }
    },
    "tags": []
   },
   "outputs": [],
   "source": [
    "pl = pv.Plotter(notebook=True,shape=(1, 3))\n",
    "pvslices=([5,15,25],[15],[])\n",
    "\n",
    "pl.subplot(0, 0)\n",
    "k.showResults(\n",
    "              index = 0,\n",
    "              attr='Resistivity(ohm.m)',\n",
    "              ax=pl, \n",
    "              vmin=0, \n",
    "              vmax=300, \n",
    "              color_map='jet',zlim=[-30,0],\n",
    "              background_color='white',pvslices=pvslices,\n",
    "              pvgrid = True,\n",
    "              pvshow=False,\n",
    "                )\n",
    "pl.show_bounds(all_edges=True)\n",
    "\n",
    "\n",
    "pl.subplot(0, 1)\n",
    "k.showResults(\n",
    "              index = 1,\n",
    "              attr='Resistivity(ohm.m)',\n",
    "              ax=pl, \n",
    "              vmin=0, \n",
    "              vmax=300, \n",
    "              color_map='jet',zlim=[-30,0],\n",
    "              background_color='white',pvslices=pvslices,\n",
    "              pvgrid = True,\n",
    "              pvshow=False,\n",
    "                )\n",
    "pl.show_bounds(all_edges=True)\n",
    "\n",
    "\n",
    "pl.subplot(0, 2)\n",
    "k.showResults(\n",
    "              index = 1,\n",
    "              attr='difference(percent)',\n",
    "              ax=pl, pvslices=([5,15,25],[15],[]), \n",
    "              vmin=0, vmax=100,\n",
    "              color_map='bwr',zlim=[-30,0],\n",
    "              background_color='white',\n",
    "              pvgrid = True,\n",
    "              pvshow=False,\n",
    "                )\n",
    "pl.show_bounds(all_edges=True)\n",
    "\n",
    "pl.show()"
   ]
  },
  {
   "cell_type": "code",
   "execution_count": null,
   "id": "fb50380f-ed3e-457e-b2bc-63d83cabd017",
   "metadata": {
    "iooxa": {
     "id": {
      "block": "jrbihYCzEQIvws2qgfVZ",
      "project": "wjcU0xFUCQKRwMTRhf0q",
      "version": 7
     },
     "outputId": {
      "block": "xGyu1B2bb70ZrknJ4W43",
      "project": "wjcU0xFUCQKRwMTRhf0q",
      "version": 7
     }
    },
    "tags": []
   },
   "outputs": [],
   "source": [
    "pl = pv.Plotter(notebook=True)\n",
    "pvslices=([5,15,25],[15],[])\n",
    "\n",
    "k.showResults(\n",
    "              index = 1,\n",
    "              attr='difference(percent)',\n",
    "              ax=pl, pvslices=([5,15,25],[15],[]), \n",
    "              vmin=0, vmax=100,\n",
    "              color_map='bwr',zlim=[-30,0],\n",
    "              background_color='white',\n",
    "              pvgrid = True,\n",
    "              pvshow=False,\n",
    "                )\n",
    "pl.show_bounds(all_edges=True)\n",
    "\n",
    "pl.show()"
   ]
  },
  {
   "cell_type": "code",
   "execution_count": null,
   "id": "0147732e-649e-488a-b4ce-afdf497fd4cb",
   "metadata": {
    "iooxa": {
     "id": {
      "block": "KkfhRLdiehV7XWGaRQLj",
      "project": "wjcU0xFUCQKRwMTRhf0q",
      "version": 5
     },
     "outputId": {
      "block": "CF3JfxwmUKFyZCRx5QA7",
      "project": "wjcU0xFUCQKRwMTRhf0q",
      "version": 5
     }
    },
    "tags": []
   },
   "outputs": [],
   "source": [
    "pl = pv.Plotter(notebook=True)\n",
    "\n",
    "k.showResults(\n",
    "              index = 1,\n",
    "              attr='difference(percent)',\n",
    "              ax=pl, pvcontour=[50, 100], \n",
    "              vmin=50, vmax=150,\n",
    "              color_map='jet',zlim=[-31,0],\n",
    "              background_color='white',\n",
    "              pvgrid = True,\n",
    "              pvshow=False,\n",
    "                )\n",
    "pl.show_bounds(all_edges=True)\n",
    "\n",
    "pl.show()\n",
    "\n",
    "pl = pv.Plotter(notebook=True)\n",
    "\n",
    "k.showResults(\n",
    "              index = 1,\n",
    "              attr='difference(percent)',\n",
    "              ax=pl, pvcontour=[100, 150], \n",
    "              vmin=50, vmax=150,\n",
    "              color_map='jet',zlim=[-31,0],\n",
    "              background_color='white',\n",
    "              pvgrid = True,\n",
    "              pvshow=False,\n",
    "                )\n",
    "pl.show_bounds(all_edges=True)\n",
    "\n",
    "pl.show()"
   ]
  },
  {
   "cell_type": "markdown",
   "id": "248840ff-c4f3-4acc-85f4-c7bc422461c0",
   "metadata": {
    "iooxa": {
     "id": {
      "block": "8wJsk3s4QcLU1mz8N8Oy",
      "project": "wjcU0xFUCQKRwMTRhf0q",
      "version": 1
     }
    }
   },
   "source": [
    "## Time lapse during tracer injection (background inv)"
   ]
  },
  {
   "cell_type": "code",
   "execution_count": null,
   "id": "8f4631bc-c032-4b1c-b292-3f2715de124e",
   "metadata": {
    "iooxa": {
     "id": {
      "block": "JxQJ2qHovbKQqd5iO7m8",
      "project": "wjcU0xFUCQKRwMTRhf0q",
      "version": 5
     },
     "outputId": {
      "block": "0Ghkti9DRZooCwFLBrZo",
      "project": "wjcU0xFUCQKRwMTRhf0q",
      "version": 2
     }
    }
   },
   "outputs": [],
   "source": [
    "# -------- ResIPy log file -------\n",
    "\n",
    "from resipy import Project\n",
    "import pyvista as pv\n",
    "dir_simu = '../INV/timeLapse/TL2b3456regMode2/'\n",
    "k_back = Project(dirname=dir_simu, typ='R3t')\n",
    "#k.loadProject(dir_simu + \"Salorno_TL2b3456regMode2.resipy\")\n",
    "#k_back.loadProject(dir_simu + \"Salorno_TL2b3456regMode2trimRecfinemeshparallelTlinErr.resipy\")\n",
    "#k_back.loadProject(dir_simu + \"Salorno_TL2b3456regMode2trimRecfinemeshparallelF.resipy\")\n",
    "k_back.loadProject(dir_simu + \"Salorno_TL2b3456regMode2trimRecfinemeshparallelF_3.resipy\")\n",
    "\n"
   ]
  },
  {
   "cell_type": "code",
   "execution_count": null,
   "id": "a5747283-ade9-4a96-ac90-5773569a92b1",
   "metadata": {
    "iooxa": {
     "id": {
      "block": "c9oRBbK6BGCi38v1OzAV",
      "project": "wjcU0xFUCQKRwMTRhf0q",
      "version": 8
     },
     "outputId": {
      "block": "rUBL1WZMT2DCnwqacBqc",
      "project": "wjcU0xFUCQKRwMTRhf0q",
      "version": 7
     }
    }
   },
   "outputs": [],
   "source": [
    "pl = pv.Plotter(notebook=True,shape=(2, 3))\n",
    "\n",
    "for i in range(5):\n",
    "    if i<3:\n",
    "        pl.subplot(0, i)\n",
    "    else:\n",
    "        pl.subplot(1, i-3)\n",
    "    pl.add_text(\"Time\" + str(i), font_size=10)\n",
    "    k_back.showResults(\n",
    "                  index = 0,\n",
    "                  attr='Resistivity(ohm.m)',\n",
    "                  ax=pl, \n",
    "                  vmin=0, \n",
    "                  vmax=300, \n",
    "                  color_map='jet',zlim=[-30,0],\n",
    "                  background_color='white',\n",
    "                  pvgrid = True,\n",
    "                  pvshow=False,\n",
    "                    )\n",
    "    pl.show_bounds(all_edges=True) \n",
    "pl.show()"
   ]
  },
  {
   "cell_type": "code",
   "execution_count": null,
   "id": "26aac84e-71c7-499b-adb1-a8f2bd39405e",
   "metadata": {
    "iooxa": {
     "id": {
      "block": "L0Jpr87LDMw3WBXjr2oE",
      "project": "wjcU0xFUCQKRwMTRhf0q",
      "version": 5
     },
     "outputId": {
      "block": "xL0Vkwwrk4G8UFAOfZ2D",
      "project": "wjcU0xFUCQKRwMTRhf0q",
      "version": 4
     }
    }
   },
   "outputs": [],
   "source": [
    "pl = pv.Plotter(notebook=True,shape=(2, 3))\n",
    "\n",
    "for i in range(5):\n",
    "    if i<3:\n",
    "        pl.subplot(0, i)\n",
    "    else:\n",
    "        pl.subplot(1, i-3)\n",
    "    k_back.showResults(\n",
    "                  index = 0,\n",
    "                  attr='Resistivity(ohm.m)',\n",
    "                  ax=pl, pvslices=([5,15,25],[15],[]), \n",
    "                  vmin=0, \n",
    "                  vmax=300, \n",
    "                  color_map='jet',zlim=[-30,0],\n",
    "                  background_color='white',\n",
    "                  pvgrid = True,\n",
    "                  pvshow=False,\n",
    "                    )\n",
    "    pl.show_bounds(all_edges=True)\n",
    "\n",
    "pl.show()"
   ]
  },
  {
   "cell_type": "code",
   "execution_count": null,
   "id": "b71dbbfc-5f68-4dcc-83bc-93d1f98911f4",
   "metadata": {
    "iooxa": {
     "id": {
      "block": "J9YIg4GLzeO4AtxT45FM",
      "project": "wjcU0xFUCQKRwMTRhf0q",
      "version": 9
     },
     "outputId": {
      "block": "icGg93yCPEwIyreEPd45",
      "project": "wjcU0xFUCQKRwMTRhf0q",
      "version": 8
     }
    },
    "tags": []
   },
   "outputs": [],
   "source": [
    "pl = pv.Plotter(notebook=True,shape=(2, 2))\n",
    "\n",
    "for i in range(4):\n",
    "    if i<2:\n",
    "        pl.subplot(0, i)\n",
    "    else:\n",
    "        pl.subplot(1, i-2)\n",
    "            \n",
    "    k_back.showResults(\n",
    "                  index = i,\n",
    "                  attr='difference(percent)',\n",
    "                  ax=pl, pvslices=([5,15,25],[15],[]), \n",
    "                  vmin=0, vmax=100,\n",
    "                  color_map='bwr',zlim=[-30,0],\n",
    "                  background_color='white',\n",
    "                  pvgrid = True,\n",
    "                  pvshow=False,\n",
    "                    )\n",
    "    pl.show_bounds(all_edges=True)\n",
    "\n",
    "pl.show()"
   ]
  },
  {
   "cell_type": "code",
   "execution_count": null,
   "id": "4d3f8e0a-b91b-41e5-9743-164fb9e595dc",
   "metadata": {
    "iooxa": {
     "id": {
      "block": "ytZo0lXMpQIJiKY0U0bU",
      "project": "wjcU0xFUCQKRwMTRhf0q",
      "version": 6
     },
     "outputId": {
      "block": "ZJZo0yNlaLDDB59r9Y3O",
      "project": "wjcU0xFUCQKRwMTRhf0q",
      "version": 6
     }
    },
    "tags": []
   },
   "outputs": [],
   "source": [
    "pl = pv.Plotter(notebook=True,shape=(2, 4))\n",
    "\n",
    "for i in range(4):\n",
    "    pvcontour=[0, 50]\n",
    "    pl.subplot(0, i)\n",
    "    k_back.showResults(\n",
    "                  index = i,\n",
    "                  attr='difference(percent)',\n",
    "                  ax=pl, pvcontour=pvcontour, \n",
    "                  vmin=0, vmax=150,\n",
    "                  color_map='bwr',zlim=[-31,0],\n",
    "                  background_color='white',\n",
    "                  pvgrid = True,\n",
    "                  pvshow=False,\n",
    "                    )\n",
    "    pl.show_bounds(all_edges=True)\n",
    "    \n",
    "    \n",
    "    pl.subplot(1, i)\n",
    "    pvcontour=[50, 150]\n",
    "    k_back.showResults(\n",
    "                  index = i,\n",
    "                  attr='difference(percent)',\n",
    "                  ax=pl, pvcontour=pvcontour, \n",
    "                  vmin=0, vmax=150,\n",
    "                  color_map='bwr',zlim=[-31,0],\n",
    "                  background_color='white',\n",
    "                  pvgrid = True,\n",
    "                  pvshow=False,\n",
    "                    )\n",
    "    pl.show_bounds(all_edges=True)\n",
    "    \n",
    "\n",
    "pl.show()"
   ]
  },
  {
   "cell_type": "markdown",
   "id": "9fff53d1-39c9-4393-9842-be255ecdefed",
   "metadata": {
    "iooxa": {
     "id": {
      "block": "PRbaUmQKLAI3JYwZ1v2v",
      "project": "wjcU0xFUCQKRwMTRhf0q",
      "version": 1
     }
    }
   },
   "source": [
    "## Time lapse during tracer injection (difference inv)"
   ]
  },
  {
   "cell_type": "code",
   "execution_count": null,
   "id": "694be686-83d6-45db-bc23-b7687ba4e5f9",
   "metadata": {
    "iooxa": {
     "id": {
      "block": "dqN7eIJCv5QFMZFlj8z0",
      "project": "wjcU0xFUCQKRwMTRhf0q",
      "version": 4
     },
     "outputId": {
      "block": "ZMYPbSmSNCLFjwmWQmKa",
      "project": "wjcU0xFUCQKRwMTRhf0q",
      "version": 2
     }
    }
   },
   "outputs": [],
   "source": [
    "# -------- ResIPy log file -------\n",
    "\n",
    "from resipy import Project\n",
    "import pyvista as pv\n",
    "dir_simu = '../INV/timeLapse/TL2b3456regMode1/'\n",
    "k_diff = Project(dirname=dir_simu, typ='R3t')\n",
    "#k.loadProject(dir_simu + \"Salorno_TL2b3456.resipy\")\n",
    "k_diff.loadProject(dir_simu + \"Salorno_TL2b3456regMode1trimRecfinemeshparallelF.resipy\")\n",
    "\n"
   ]
  },
  {
   "cell_type": "code",
   "execution_count": null,
   "id": "66614b8d-705a-47db-a880-6dfd0722cdc9",
   "metadata": {
    "iooxa": {
     "id": {
      "block": "c9oRBbK6BGCi38v1OzAV",
      "project": "wjcU0xFUCQKRwMTRhf0q",
      "version": 7
     },
     "outputId": {
      "block": "rUBL1WZMT2DCnwqacBqc",
      "project": "wjcU0xFUCQKRwMTRhf0q",
      "version": 6
     }
    }
   },
   "outputs": [],
   "source": [
    "pl = pv.Plotter(notebook=True,shape=(2, 3))\n",
    "\n",
    "for i in range(5):\n",
    "    if i<3:\n",
    "        pl.subplot(0, i)\n",
    "    else:\n",
    "        pl.subplot(1, i-3)\n",
    "    pl.add_text(\"Time\" + str(i), font_size=10)\n",
    "    k.showResults(\n",
    "                  index = 0,\n",
    "                  attr='Resistivity(ohm.m)',\n",
    "                  ax=pl, \n",
    "                  vmin=0, \n",
    "                  vmax=300, \n",
    "                  color_map='jet',zlim=[-30,0],\n",
    "                  background_color='white',\n",
    "                  pvgrid = True,\n",
    "                  pvshow=False,\n",
    "                    )\n",
    "    pl.show_bounds(all_edges=True) \n",
    "pl.show()"
   ]
  },
  {
   "cell_type": "code",
   "execution_count": null,
   "id": "880d92d4-5370-4ddd-a3f8-bcacd5b0f70c",
   "metadata": {
    "iooxa": {
     "id": {
      "block": "L0Jpr87LDMw3WBXjr2oE",
      "project": "wjcU0xFUCQKRwMTRhf0q",
      "version": 7
     },
     "outputId": {
      "block": "xL0Vkwwrk4G8UFAOfZ2D",
      "project": "wjcU0xFUCQKRwMTRhf0q",
      "version": 6
     }
    }
   },
   "outputs": [],
   "source": [
    "pl = pv.Plotter(notebook=True,shape=(2, 3))\n",
    "\n",
    "for i in range(5):\n",
    "    if i<3:\n",
    "        pl.subplot(0, i)\n",
    "    else:\n",
    "        pl.subplot(1, i-3)\n",
    "    k_diff.showResults(\n",
    "                  index = 0,\n",
    "                  attr='Resistivity(ohm.m)',\n",
    "                  ax=pl, pvslices=([5,15,25],[15],[]), \n",
    "                  vmin=0, \n",
    "                  vmax=300, \n",
    "                  color_map='jet',zlim=[-30,0],\n",
    "                  background_color='white',\n",
    "                  pvgrid = True,\n",
    "                  pvshow=False,\n",
    "                    )\n",
    "    pl.show_bounds(all_edges=True)\n",
    "\n",
    "pl.show()"
   ]
  },
  {
   "cell_type": "code",
   "execution_count": null,
   "id": "a755250d-752c-44ed-b84a-b744b8359d2b",
   "metadata": {
    "iooxa": {
     "id": {
      "block": "J9YIg4GLzeO4AtxT45FM",
      "project": "wjcU0xFUCQKRwMTRhf0q",
      "version": 10
     },
     "outputId": {
      "block": "icGg93yCPEwIyreEPd45",
      "project": "wjcU0xFUCQKRwMTRhf0q",
      "version": 9
     }
    },
    "tags": []
   },
   "outputs": [],
   "source": [
    "pl = pv.Plotter(notebook=True,shape=(2, 2))\n",
    "#pl.add_text(\"Diff\\n\", font_size=30)\n",
    "\n",
    "for i in range(4):\n",
    "    if i<2:\n",
    "        pl.subplot(0, i)\n",
    "    else:\n",
    "        pl.subplot(1, i-2)\n",
    "            \n",
    "    k_diff.showResults(\n",
    "                  index = i,\n",
    "                  attr='difference(percent)',\n",
    "                  ax=pl, pvslices=([5,15,25],[15],[]), \n",
    "                  vmin=0, vmax=10,\n",
    "                  color_map='bwr',zlim=[-30,0],\n",
    "                  background_color='white',\n",
    "                  pvgrid = True,\n",
    "                  pvshow=False,\n",
    "                    )\n",
    "    pl.show_bounds(all_edges=True)\n",
    "\n",
    "pl.show()"
   ]
  },
  {
   "cell_type": "code",
   "execution_count": null,
   "id": "e83a2537-6e4c-48b3-8e3a-a760e7e83b93",
   "metadata": {
    "iooxa": {
     "id": {
      "block": "ytZo0lXMpQIJiKY0U0bU",
      "project": "wjcU0xFUCQKRwMTRhf0q",
      "version": 8
     },
     "outputId": {
      "block": "ZJZo0yNlaLDDB59r9Y3O",
      "project": "wjcU0xFUCQKRwMTRhf0q",
      "version": 8
     }
    },
    "tags": []
   },
   "outputs": [],
   "source": [
    "pl = pv.Plotter(notebook=True,shape=(2, 4))\n",
    "\n",
    "for i in range(4):\n",
    "    pvcontour=[0, 5]\n",
    "    pl.subplot(0, i)\n",
    "    k_diff.showResults(\n",
    "                  index = i,\n",
    "                  attr='difference(percent)',\n",
    "                  ax=pl, pvcontour=pvcontour, \n",
    "                  vmin=0, vmax=150,\n",
    "                  color_map='bwr',zlim=[-31,0],\n",
    "                  background_color='white',\n",
    "                  pvgrid = True,\n",
    "                  pvshow=False,\n",
    "                    )\n",
    "    pl.show_bounds(all_edges=True)\n",
    "    \n",
    "    \n",
    "    pl.subplot(1, i)\n",
    "    pvcontour=[5, 10]\n",
    "    k_diff.showResults(\n",
    "                  index = i,\n",
    "                  attr='difference(percent)',\n",
    "                  ax=pl, pvcontour=pvcontour, \n",
    "                  vmin=0, vmax=150,\n",
    "                  color_map='bwr',zlim=[-31,0],\n",
    "                  background_color='white',\n",
    "                  pvgrid = True,\n",
    "                  pvshow=False,\n",
    "                    )\n",
    "    pl.show_bounds(all_edges=True)\n",
    "    \n",
    "\n",
    "pl.show()"
   ]
  },
  {
   "cell_type": "code",
   "execution_count": null,
   "id": "65f60679-66c3-40cc-ba88-69b9f14360f2",
   "metadata": {},
   "outputs": [],
   "source": []
  },
  {
   "cell_type": "code",
   "execution_count": null,
   "id": "194ad78e-76a4-47f7-bebe-c608b0cb56de",
   "metadata": {},
   "outputs": [],
   "source": []
  },
  {
   "cell_type": "code",
   "execution_count": null,
   "id": "8e0532c7-c50f-44d6-9216-0a2753e303cf",
   "metadata": {},
   "outputs": [],
   "source": []
  }
 ],
 "metadata": {
  "iooxa": {
   "id": {
    "block": "e8n2m93PiZShkrVzQQJs",
    "project": "wjcU0xFUCQKRwMTRhf0q",
    "version": 18
   }
  },
  "kernelspec": {
   "display_name": "py39",
   "language": "python",
   "name": "py39"
  },
  "language_info": {
   "codemirror_mode": {
    "name": "ipython",
    "version": 3
   },
   "file_extension": ".py",
   "mimetype": "text/x-python",
   "name": "python",
   "nbconvert_exporter": "python",
   "pygments_lexer": "ipython3",
   "version": "3.9.9"
  }
 },
 "nbformat": 4,
 "nbformat_minor": 5
}
